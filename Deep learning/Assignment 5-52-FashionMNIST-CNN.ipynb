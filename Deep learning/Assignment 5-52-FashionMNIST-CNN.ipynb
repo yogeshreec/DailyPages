{
 "cells": [
  {
   "cell_type": "code",
   "execution_count": 1,
   "id": "01505fe7",
   "metadata": {},
   "outputs": [],
   "source": [
    "import numpy as np\n",
    "import pandas as pd\n",
    "import matplotlib.pyplot as plt\n",
    "#importing the keras libraries and packages\n",
    "from tensorflow.keras.models import Sequential\n",
    "from tensorflow.keras.layers import Conv2D,MaxPooling2D,Flatten,Dense,InputLayer,Dropout,BatchNormalization\n",
    "from tensorflow.keras.datasets import fashion_mnist "
   ]
  },
  {
   "cell_type": "code",
   "execution_count": 2,
   "id": "c74c0aa7",
   "metadata": {},
   "outputs": [],
   "source": [
    "(train_images,train_labels),(test_images,test_labels)=fashion_mnist.load_data()"
   ]
  },
  {
   "cell_type": "code",
   "execution_count": 3,
   "id": "88a2b6c9",
   "metadata": {},
   "outputs": [
    {
     "data": {
      "text/plain": [
       "array([9, 0, 0, ..., 3, 0, 5], dtype=uint8)"
      ]
     },
     "execution_count": 3,
     "metadata": {},
     "output_type": "execute_result"
    }
   ],
   "source": [
    "train_labels\n"
   ]
  },
  {
   "cell_type": "code",
   "execution_count": 4,
   "id": "595b8371",
   "metadata": {},
   "outputs": [
    {
     "data": {
      "text/plain": [
       "<matplotlib.image.AxesImage at 0x2798c442b70>"
      ]
     },
     "execution_count": 4,
     "metadata": {},
     "output_type": "execute_result"
    },
    {
     "data": {
      "image/png": "[encoded data removed]",
      "text/plain": [
       "<Figure size 72x72 with 1 Axes>"
      ]
     },
     "metadata": {
      "needs_background": "light"
     },
     "output_type": "display_data"
    }
   ],
   "source": [
    "label = [\"T-shirt/top\",\"Trouser\",\"Pullover\",\"Dress\",\"Coat\",\"Sandal\",\"Shirt\",\"Sneaker\",\"Bag\",\"Ankle boot\"]\n",
    "plt.figure(figsize=(1,1))\n",
    "plt.imshow(train_images[0], cmap='gray')"
   ]
  },
  {
   "cell_type": "code",
   "execution_count": 5,
   "id": "4c3a79b2",
   "metadata": {},
   "outputs": [
    {
     "name": "stdout",
     "output_type": "stream",
     "text": [
      "Model: \"sequential\"\n",
      "_________________________________________________________________\n",
      "Layer (type)                 Output Shape              Param #   \n",
      "=================================================================\n",
      "conv2d (Conv2D)              (None, 26, 26, 32)        320       \n",
      "_________________________________________________________________\n",
      "conv2d_1 (Conv2D)            (None, 24, 24, 64)        18496     \n",
      "_________________________________________________________________\n",
      "MP1 (MaxPooling2D)           (None, 12, 12, 64)        0         \n",
      "_________________________________________________________________\n",
      "conv2d_2 (Conv2D)            (None, 10, 10, 128)       73856     \n",
      "_________________________________________________________________\n",
      "MP2 (MaxPooling2D)           (None, 5, 5, 128)         0         \n",
      "_________________________________________________________________\n",
      "flatten (Flatten)            (None, 3200)              0         \n",
      "_________________________________________________________________\n",
      "dense (Dense)                (None, 128)               409728    \n",
      "_________________________________________________________________\n",
      "dense_1 (Dense)              (None, 10)                1290      \n",
      "=================================================================\n",
      "Total params: 503,690\n",
      "Trainable params: 503,690\n",
      "Non-trainable params: 0\n",
      "_________________________________________________________________\n"
     ]
    }
   ],
   "source": [
    "model = Sequential()\n",
    "model.add(InputLayer(input_shape=(28,28,1)))\n",
    "model.add(Conv2D(filters=32,kernel_size=(3,3),activation='relu'))\n",
    "model.add(Conv2D(filters=64,kernel_size=(3,3),activation='relu'))\n",
    "model.add(MaxPooling2D(pool_size=(2,2),name='MP1'))\n",
    "model.add(Conv2D(filters=128,kernel_size=(3,3),activation='relu'))\n",
    "model.add(MaxPooling2D(pool_size=(2,2),name='MP2'))\n",
    "model.add(Flatten())\n",
    "model.add(Dense(128,activation='relu'))\n",
    "model.add(Dense(10,activation='softmax'))\n",
    "model.summary()\n",
    "          "
   ]
  },
  {
   "cell_type": "code",
   "execution_count": 6,
   "id": "9b8124c5",
   "metadata": {},
   "outputs": [
    {
     "data": {
      "text/plain": [
       "(60000, 28, 28)"
      ]
     },
     "execution_count": 6,
     "metadata": {},
     "output_type": "execute_result"
    }
   ],
   "source": [
    "train_images.shape"
   ]
  },
  {
   "cell_type": "code",
   "execution_count": 7,
   "id": "ec414529",
   "metadata": {},
   "outputs": [],
   "source": [
    "train_images=train_images/255.\n",
    "#normalize the data\n",
    "cnn_x_train = train_images.reshape(60000,28,28,1)\n",
    "#reshaping because our model is expecting input in the shape of 28*28*1\n",
    "test_images=test_images/255.\n",
    "#normalize the data\n",
    "cnn_x_test = test_images.reshape(10000,28,28,1)\n"
   ]
  },
  {
   "cell_type": "code",
   "execution_count": 8,
   "id": "79aea32a",
   "metadata": {},
   "outputs": [
    {
     "name": "stdout",
     "output_type": "stream",
     "text": [
      "Epoch 1/10\n",
      "750/750 [==============================] - 53s 70ms/step - loss: 0.4681 - val_loss: 0.3554\n",
      "Epoch 2/10\n",
      "750/750 [==============================] - 52s 69ms/step - loss: 0.2832 - val_loss: 0.2840\n",
      "Epoch 3/10\n",
      "750/750 [==============================] - 52s 69ms/step - loss: 0.2334 - val_loss: 0.2366\n",
      "Epoch 4/10\n",
      "750/750 [==============================] - 53s 70ms/step - loss: 0.1976 - val_loss: 0.2432\n",
      "Epoch 5/10\n",
      "750/750 [==============================] - 60s 80ms/step - loss: 0.1722 - val_loss: 0.2296\n",
      "Epoch 6/10\n",
      "750/750 [==============================] - 57s 76ms/step - loss: 0.1458 - val_loss: 0.2178\n",
      "Epoch 7/10\n",
      "750/750 [==============================] - 58s 77ms/step - loss: 0.1224 - val_loss: 0.2384\n",
      "Epoch 8/10\n",
      "750/750 [==============================] - 58s 77ms/step - loss: 0.1003 - val_loss: 0.2420\n",
      "Epoch 9/10\n",
      "750/750 [==============================] - 58s 78ms/step - loss: 0.0815 - val_loss: 0.2600\n",
      "Epoch 10/10\n",
      "750/750 [==============================] - 58s 77ms/step - loss: 0.0702 - val_loss: 0.2981\n"
     ]
    },
    {
     "data": {
      "text/plain": [
       "<keras.callbacks.History at 0x2798c611cf8>"
      ]
     },
     "execution_count": 8,
     "metadata": {},
     "output_type": "execute_result"
    }
   ],
   "source": [
    "model.compile(optimizer='adam',loss='sparse_categorical_crossentropy')\n",
    "model.fit(cnn_x_train,train_labels,epochs=10,batch_size=64, validation_split=0.2)"
   ]
  },
  {
   "cell_type": "code",
   "execution_count": 9,
   "id": "87ca242c",
   "metadata": {},
   "outputs": [],
   "source": [
    "yhat = model.predict(cnn_x_test)"
   ]
  },
  {
   "cell_type": "code",
   "execution_count": 10,
   "id": "ac009207",
   "metadata": {},
   "outputs": [
    {
     "data": {
      "text/plain": [
       "(10000, 10)"
      ]
     },
     "execution_count": 10,
     "metadata": {},
     "output_type": "execute_result"
    }
   ],
   "source": [
    "yhat.shape"
   ]
  },
  {
   "cell_type": "code",
   "execution_count": 11,
   "id": "f7556882",
   "metadata": {},
   "outputs": [
    {
     "name": "stdout",
     "output_type": "stream",
     "text": [
      "              precision    recall  f1-score   support\n",
      "\n",
      " T-shirt/top       0.87      0.86      0.87      1000\n",
      "     Trouser       1.00      0.98      0.99      1000\n",
      "    Pullover       0.87      0.87      0.87      1000\n",
      "       Dress       0.92      0.92      0.92      1000\n",
      "        Coat       0.89      0.86      0.88      1000\n",
      "      Sandal       0.98      0.98      0.98      1000\n",
      "       Shirt       0.76      0.77      0.76      1000\n",
      "     Sneaker       0.94      0.99      0.96      1000\n",
      "         Bag       0.95      0.99      0.97      1000\n",
      "  Ankle boot       0.99      0.95      0.97      1000\n",
      "\n",
      "    accuracy                           0.92     10000\n",
      "   macro avg       0.92      0.92      0.92     10000\n",
      "weighted avg       0.92      0.92      0.92     10000\n",
      "\n"
     ]
    }
   ],
   "source": [
    "from sklearn.metrics import accuracy_score,classification_report,confusion_matrix\n",
    "print(classification_report(test_labels,np.argmax(yhat,axis=1),target_names=label))"
   ]
  },
  {
   "cell_type": "code",
   "execution_count": 12,
   "id": "88436ead",
   "metadata": {},
   "outputs": [
    {
     "name": "stdout",
     "output_type": "stream",
     "text": [
      "[[864   1  16   7   2   2  95   0  13   0]\n",
      " [  1 981   0   9   1   0   5   0   3   0]\n",
      " [ 18   1 868  11  39   0  55   0   8   0]\n",
      " [ 16   0  12 920  16   0  34   0   2   0]\n",
      " [  5   0  43  30 863   0  57   0   2   0]\n",
      " [  0   0   0   0   0 982   0  15   0   3]\n",
      " [ 91   0  54  17  49   0 770   0  19   0]\n",
      " [  0   0   0   0   0   3   0 988   0   9]\n",
      " [  2   0   1   4   0   1   0   4 988   0]\n",
      " [  0   0   1   0   0   9   0  41   0 949]]\n"
     ]
    }
   ],
   "source": [
    "print(confusion_matrix(test_labels,np.argmax(yhat,axis=1)))"
   ]
  },
  {
   "cell_type": "code",
   "execution_count": 13,
   "id": "afb0508c",
   "metadata": {},
   "outputs": [
    {
     "name": "stdout",
     "output_type": "stream",
     "text": [
      "[[864   1  16   7   2   2  95   0  13   0]\n",
      " [  1 981   0   9   1   0   5   0   3   0]\n",
      " [ 18   1 868  11  39   0  55   0   8   0]\n",
      " [ 16   0  12 920  16   0  34   0   2   0]\n",
      " [  5   0  43  30 863   0  57   0   2   0]\n",
      " [  0   0   0   0   0 982   0  15   0   3]\n",
      " [ 91   0  54  17  49   0 770   0  19   0]\n",
      " [  0   0   0   0   0   3   0 988   0   9]\n",
      " [  2   0   1   4   0   1   0   4 988   0]\n",
      " [  0   0   1   0   0   9   0  41   0 949]]\n"
     ]
    }
   ],
   "source": [
    "print(confusion_matrix(test_labels,np.argmax(yhat,axis=1)))"
   ]
  },
  {
   "cell_type": "code",
   "execution_count": 14,
   "id": "b02f0d9c",
   "metadata": {},
   "outputs": [],
   "source": [
    "#change the data - wherever shirt (label=6) make it T shirt (label=1)\n",
    "y_train = train_labels.copy()\n",
    "y_test =test_labels.copy()\n",
    "y_train[y_train==6]=0#change the data - wherever shirt (label=6)and pullover(label=2)and coat(label=3) make it T shirt (label=1)\n",
    "y_train = train_labels.copy()\n",
    "y_test =test_labels.copy()\n",
    "y_train[y_train==6]=0\n",
    "y_test[y_test==6]=0\n",
    "y_train[y_train==2]=0\n",
    "y_test[y_test==2]=0\n",
    "y_train[y_train==3]=0\n",
    "y_test[y_test==3]=0\n",
    "y_test[y_test==6]=0"
   ]
  },
  {
   "cell_type": "code",
   "execution_count": null,
   "id": "5751c4a6",
   "metadata": {},
   "outputs": [
    {
     "name": "stdout",
     "output_type": "stream",
     "text": [
      "Epoch 1/10\n",
      "750/750 [==============================] - 58s 77ms/step - loss: 0.0716 - val_loss: 0.1319\n",
      "Epoch 2/10\n",
      "750/750 [==============================] - 54s 72ms/step - loss: 0.0359 - val_loss: 0.1431\n",
      "Epoch 3/10\n",
      "750/750 [==============================] - 58s 77ms/step - loss: 0.0263 - val_loss: 0.1911\n",
      "Epoch 4/10\n",
      "750/750 [==============================] - 61s 81ms/step - loss: 0.0240 - val_loss: 0.1915\n",
      "Epoch 5/10\n",
      "750/750 [==============================] - 54s 72ms/step - loss: 0.0236 - val_loss: 0.1770\n",
      "Epoch 6/10\n",
      "750/750 [==============================] - 64s 85ms/step - loss: 0.0185 - val_loss: 0.1857\n",
      "Epoch 7/10\n",
      "750/750 [==============================] - 74s 99ms/step - loss: 0.0173 - val_loss: 0.1890\n",
      "Epoch 8/10\n",
      "750/750 [==============================] - 76s 102ms/step - loss: 0.0197 - val_loss: 0.2113\n",
      "Epoch 9/10\n",
      "644/750 [========================>.....] - ETA: 9s - loss: 0.0169"
     ]
    }
   ],
   "source": [
    "model.fit(cnn_x_train,y_train,epochs=10,batch_size=64, validation_split=0.2)"
   ]
  },
  {
   "cell_type": "code",
   "execution_count": null,
   "id": "c94b3747",
   "metadata": {},
   "outputs": [],
   "source": [
    "yhat=model.predict(cnn_x_test)\n",
    "print(classification_report(y_test,np.argmax(yhat,axis=1),target_names=label1))"
   ]
  },
  {
   "cell_type": "code",
   "execution_count": null,
   "id": "9427501c",
   "metadata": {},
   "outputs": [],
   "source": [
    "print(confusion_matrix(y_test,np.argmax(yhat,axis=1)))\n"
   ]
  },
  {
   "cell_type": "code",
   "execution_count": null,
   "id": "b6a4f4ea",
   "metadata": {},
   "outputs": [],
   "source": [
    "#change the data - wherever shirt (label=6)and pullover(label=2)and coat(label=3) make it T shirt (label=1)\n",
    "y_train = train_labels.copy()\n",
    "y_test =test_labels.copy()\n",
    "y_train[y_train==6]=0\n",
    "y_test[y_test==6]=0\n",
    "y_train[y_train==2]=0\n",
    "y_test[y_test==2]=0\n",
    "y_train[y_train==3]=0\n",
    "y_test[y_test==3]=0"
   ]
  },
  {
   "cell_type": "code",
   "execution_count": null,
   "id": "7a0e8105",
   "metadata": {},
   "outputs": [],
   "source": [
    "model.fit(cnn_x_train,y_train,epochs=10,batch_size=32, validation_split=0.2)"
   ]
  },
  {
   "cell_type": "code",
   "execution_count": null,
   "id": "01f61194",
   "metadata": {},
   "outputs": [],
   "source": [
    "label1 = [\"T-shirt/top\",\"Trouser\",\"Dress\",\"Sandal\",\"Sneaker\",\"Bag\",\"Ankle boot\"]"
   ]
  },
  {
   "cell_type": "code",
   "execution_count": null,
   "id": "9b62d561",
   "metadata": {},
   "outputs": [],
   "source": [
    "yhat=model.predict(cnn_x_test)\n",
    "print(classification_report(y_test,np.argmax(yhat,axis=1),target_names=label1))"
   ]
  },
  {
   "cell_type": "code",
   "execution_count": null,
   "id": "07edadc6",
   "metadata": {},
   "outputs": [],
   "source": [
    "print(confusion_matrix(y_test,np.argmax(yhat,axis=1)))\n"
   ]
  },
  {
   "cell_type": "code",
   "execution_count": null,
   "id": "065e9f86",
   "metadata": {},
   "outputs": [],
   "source": []
  }
 ],
 "metadata": {
  "kernelspec": {
   "display_name": "Python 3",
   "language": "python",
   "name": "python3"
  },
  "language_info": {
   "codemirror_mode": {
    "name": "ipython",
    "version": 3
   },
   "file_extension": ".py",
   "mimetype": "text/x-python",
   "name": "python",
   "nbconvert_exporter": "python",
   "pygments_lexer": "ipython3",
   "version": "3.6.13"
  }
 },
 "nbformat": 4,
 "nbformat_minor": 5
}
