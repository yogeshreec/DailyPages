{
 "cells": [
  {
   "cell_type": "code",
   "execution_count": 1,
   "id": "21ccc8c3",
   "metadata": {},
   "outputs": [],
   "source": [
    "\n",
    "import pandas as pd\n",
    "import numpy as np\n",
    "from sklearn.model_selection import train_test_split\n",
    "from sklearn.preprocessing import StandardScaler, LabelEncoder\n",
    "from tensorflow.keras.models import Sequential\n",
    "from tensorflow.keras.layers import Dense"
   ]
  },
  {
   "cell_type": "code",
   "execution_count": 2,
   "id": "643653f3",
   "metadata": {},
   "outputs": [
    {
     "name": "stdout",
     "output_type": "stream",
     "text": [
      "<class 'pandas.core.frame.DataFrame'>\n",
      "RangeIndex: 10000 entries, 0 to 9999\n",
      "Data columns (total 14 columns):\n",
      " #   Column           Non-Null Count  Dtype  \n",
      "---  ------           --------------  -----  \n",
      " 0   RowNumber        10000 non-null  int64  \n",
      " 1   CustomerId       10000 non-null  int64  \n",
      " 2   Surname          10000 non-null  object \n",
      " 3   CreditScore      10000 non-null  int64  \n",
      " 4   Geography        10000 non-null  object \n",
      " 5   Gender           10000 non-null  object \n",
      " 6   Age              10000 non-null  int64  \n",
      " 7   Tenure           10000 non-null  int64  \n",
      " 8   Balance          10000 non-null  float64\n",
      " 9   NumOfProducts    10000 non-null  int64  \n",
      " 10  HasCrCard        10000 non-null  int64  \n",
      " 11  IsActiveMember   10000 non-null  int64  \n",
      " 12  EstimatedSalary  10000 non-null  float64\n",
      " 13  Exited           10000 non-null  int64  \n",
      "dtypes: float64(2), int64(9), object(3)\n",
      "memory usage: 1.1+ MB\n"
     ]
    }
   ],
   "source": [
    "df=pd.read_csv('Churn_Modelling.csv')\n",
    "df.info()"
   ]
  },
  {
   "cell_type": "code",
   "execution_count": 3,
   "id": "90e6901c",
   "metadata": {},
   "outputs": [
    {
     "data": {
      "text/html": [
       "<div>\n",
       "<style scoped>\n",
       "    .dataframe tbody tr th:only-of-type {\n",
       "        vertical-align: middle;\n",
       "    }\n",
       "\n",
       "    .dataframe tbody tr th {\n",
       "        vertical-align: top;\n",
       "    }\n",
       "\n",
       "    .dataframe thead th {\n",
       "        text-align: right;\n",
       "    }\n",
       "</style>\n",
       "<table border=\"1\" class=\"dataframe\">\n",
       "  <thead>\n",
       "    <tr style=\"text-align: right;\">\n",
       "      <th></th>\n",
       "      <th>RowNumber</th>\n",
       "      <th>CustomerId</th>\n",
       "      <th>Surname</th>\n",
       "      <th>CreditScore</th>\n",
       "      <th>Geography</th>\n",
       "      <th>Gender</th>\n",
       "      <th>Age</th>\n",
       "      <th>Tenure</th>\n",
       "      <th>Balance</th>\n",
       "      <th>NumOfProducts</th>\n",
       "      <th>HasCrCard</th>\n",
       "      <th>IsActiveMember</th>\n",
       "      <th>EstimatedSalary</th>\n",
       "      <th>Exited</th>\n",
       "    </tr>\n",
       "  </thead>\n",
       "  <tbody>\n",
       "    <tr>\n",
       "      <th>0</th>\n",
       "      <td>1</td>\n",
       "      <td>15634602</td>\n",
       "      <td>Hargrave</td>\n",
       "      <td>619</td>\n",
       "      <td>France</td>\n",
       "      <td>Female</td>\n",
       "      <td>42</td>\n",
       "      <td>2</td>\n",
       "      <td>0.00</td>\n",
       "      <td>1</td>\n",
       "      <td>1</td>\n",
       "      <td>1</td>\n",
       "      <td>101348.88</td>\n",
       "      <td>1</td>\n",
       "    </tr>\n",
       "    <tr>\n",
       "      <th>1</th>\n",
       "      <td>2</td>\n",
       "      <td>15647311</td>\n",
       "      <td>Hill</td>\n",
       "      <td>608</td>\n",
       "      <td>Spain</td>\n",
       "      <td>Female</td>\n",
       "      <td>41</td>\n",
       "      <td>1</td>\n",
       "      <td>83807.86</td>\n",
       "      <td>1</td>\n",
       "      <td>0</td>\n",
       "      <td>1</td>\n",
       "      <td>112542.58</td>\n",
       "      <td>0</td>\n",
       "    </tr>\n",
       "    <tr>\n",
       "      <th>2</th>\n",
       "      <td>3</td>\n",
       "      <td>15619304</td>\n",
       "      <td>Onio</td>\n",
       "      <td>502</td>\n",
       "      <td>France</td>\n",
       "      <td>Female</td>\n",
       "      <td>42</td>\n",
       "      <td>8</td>\n",
       "      <td>159660.80</td>\n",
       "      <td>3</td>\n",
       "      <td>1</td>\n",
       "      <td>0</td>\n",
       "      <td>113931.57</td>\n",
       "      <td>1</td>\n",
       "    </tr>\n",
       "    <tr>\n",
       "      <th>3</th>\n",
       "      <td>4</td>\n",
       "      <td>15701354</td>\n",
       "      <td>Boni</td>\n",
       "      <td>699</td>\n",
       "      <td>France</td>\n",
       "      <td>Female</td>\n",
       "      <td>39</td>\n",
       "      <td>1</td>\n",
       "      <td>0.00</td>\n",
       "      <td>2</td>\n",
       "      <td>0</td>\n",
       "      <td>0</td>\n",
       "      <td>93826.63</td>\n",
       "      <td>0</td>\n",
       "    </tr>\n",
       "    <tr>\n",
       "      <th>4</th>\n",
       "      <td>5</td>\n",
       "      <td>15737888</td>\n",
       "      <td>Mitchell</td>\n",
       "      <td>850</td>\n",
       "      <td>Spain</td>\n",
       "      <td>Female</td>\n",
       "      <td>43</td>\n",
       "      <td>2</td>\n",
       "      <td>125510.82</td>\n",
       "      <td>1</td>\n",
       "      <td>1</td>\n",
       "      <td>1</td>\n",
       "      <td>79084.10</td>\n",
       "      <td>0</td>\n",
       "    </tr>\n",
       "  </tbody>\n",
       "</table>\n",
       "</div>"
      ],
      "text/plain": [
       "   RowNumber  CustomerId   Surname  CreditScore Geography  Gender  Age  \\\n",
       "0          1    15634602  Hargrave          619    France  Female   42   \n",
       "1          2    15647311      Hill          608     Spain  Female   41   \n",
       "2          3    15619304      Onio          502    France  Female   42   \n",
       "3          4    15701354      Boni          699    France  Female   39   \n",
       "4          5    15737888  Mitchell          850     Spain  Female   43   \n",
       "\n",
       "   Tenure    Balance  NumOfProducts  HasCrCard  IsActiveMember  \\\n",
       "0       2       0.00              1          1               1   \n",
       "1       1   83807.86              1          0               1   \n",
       "2       8  159660.80              3          1               0   \n",
       "3       1       0.00              2          0               0   \n",
       "4       2  125510.82              1          1               1   \n",
       "\n",
       "   EstimatedSalary  Exited  \n",
       "0        101348.88       1  \n",
       "1        112542.58       0  \n",
       "2        113931.57       1  \n",
       "3         93826.63       0  \n",
       "4         79084.10       0  "
      ]
     },
     "execution_count": 3,
     "metadata": {},
     "output_type": "execute_result"
    }
   ],
   "source": [
    "df.head()"
   ]
  },
  {
   "cell_type": "code",
   "execution_count": 4,
   "id": "3558ed42",
   "metadata": {},
   "outputs": [],
   "source": [
    "X = df.drop(columns=['RowNumber', 'CustomerId', 'Surname', 'Exited'])\n",
    "y = df['Exited']"
   ]
  },
  {
   "cell_type": "code",
   "execution_count": 5,
   "id": "f773158c",
   "metadata": {},
   "outputs": [],
   "source": [
    "le = LabelEncoder()\n",
    "X['Gender'] = le.fit_transform(X['Gender'])"
   ]
  },
  {
   "cell_type": "code",
   "execution_count": 6,
   "id": "3964c83f",
   "metadata": {},
   "outputs": [],
   "source": [
    "X = pd.get_dummies(X, columns=['Geography'], drop_first=True)"
   ]
  },
  {
   "cell_type": "code",
   "execution_count": 7,
   "id": "8c403fdd",
   "metadata": {},
   "outputs": [],
   "source": [
    "X_train, X_test, y_train, y_test = train_test_split(X, y, test_size=0.2, random_state=0)\n"
   ]
  },
  {
   "cell_type": "code",
   "execution_count": 8,
   "id": "8b4a2176",
   "metadata": {},
   "outputs": [],
   "source": [
    "sc = StandardScaler()\n",
    "X_train = sc.fit_transform(X_train)\n",
    "X_test = sc.transform(X_test)"
   ]
  },
  {
   "cell_type": "code",
   "execution_count": 35,
   "id": "3c929bbb",
   "metadata": {},
   "outputs": [],
   "source": [
    "model = Sequential()\n",
    "model.add(Dense(units=16, activation='relu', input_dim=X_train.shape[1]))\n",
    "model.add(Dense(units=16, activation='relu'))\n",
    "model.add(Dense(units=1, activation='sigmoid'))"
   ]
  },
  {
   "cell_type": "code",
   "execution_count": 36,
   "id": "77464b50",
   "metadata": {},
   "outputs": [],
   "source": [
    "model.compile(optimizer='adam', loss='binary_crossentropy', metrics=['accuracy'])"
   ]
  },
  {
   "cell_type": "code",
   "execution_count": 74,
   "id": "0c1ccdbc",
   "metadata": {},
   "outputs": [
    {
     "name": "stdout",
     "output_type": "stream",
     "text": [
      "Epoch 1/50\n",
      "229/229 [==============================] - 0s 2ms/step - loss: 0.3201 - accuracy: 0.8679\n",
      "Epoch 2/50\n",
      "229/229 [==============================] - 0s 1ms/step - loss: 0.3195 - accuracy: 0.8689\n",
      "Epoch 3/50\n",
      "229/229 [==============================] - 0s 1ms/step - loss: 0.3192 - accuracy: 0.8684\n",
      "Epoch 4/50\n",
      "229/229 [==============================] - 0s 2ms/step - loss: 0.3188 - accuracy: 0.8702\n",
      "Epoch 5/50\n",
      "229/229 [==============================] - 0s 2ms/step - loss: 0.3187 - accuracy: 0.8715\n",
      "Epoch 6/50\n",
      "229/229 [==============================] - 0s 2ms/step - loss: 0.3185 - accuracy: 0.8681\n",
      "Epoch 7/50\n",
      "229/229 [==============================] - 0s 2ms/step - loss: 0.3179 - accuracy: 0.8684\n",
      "Epoch 8/50\n",
      "229/229 [==============================] - 0s 2ms/step - loss: 0.3178 - accuracy: 0.8695\n",
      "Epoch 9/50\n",
      "229/229 [==============================] - 0s 2ms/step - loss: 0.3177 - accuracy: 0.8705\n",
      "Epoch 10/50\n",
      "229/229 [==============================] - 0s 2ms/step - loss: 0.3176 - accuracy: 0.8676\n",
      "Epoch 11/50\n",
      "229/229 [==============================] - 1s 2ms/step - loss: 0.3169 - accuracy: 0.8695\n",
      "Epoch 12/50\n",
      "229/229 [==============================] - 1s 2ms/step - loss: 0.3170 - accuracy: 0.8696\n",
      "Epoch 13/50\n",
      "229/229 [==============================] - ETA: 0s - loss: 0.3164 - accuracy: 0.87 - 1s 2ms/step - loss: 0.3164 - accuracy: 0.8710\n",
      "Epoch 14/50\n",
      "229/229 [==============================] - 1s 2ms/step - loss: 0.3164 - accuracy: 0.8702\n",
      "Epoch 15/50\n",
      "229/229 [==============================] - 1s 2ms/step - loss: 0.3162 - accuracy: 0.8692\n",
      "Epoch 16/50\n",
      "229/229 [==============================] - 1s 2ms/step - loss: 0.3161 - accuracy: 0.8690\n",
      "Epoch 17/50\n",
      "229/229 [==============================] - 1s 2ms/step - loss: 0.3161 - accuracy: 0.8687\n",
      "Epoch 18/50\n",
      "229/229 [==============================] - 1s 2ms/step - loss: 0.3159 - accuracy: 0.8708\n",
      "Epoch 19/50\n",
      "229/229 [==============================] - 1s 2ms/step - loss: 0.3161 - accuracy: 0.8704\n",
      "Epoch 20/50\n",
      "229/229 [==============================] - 1s 2ms/step - loss: 0.3153 - accuracy: 0.8709\n",
      "Epoch 21/50\n",
      "229/229 [==============================] - 1s 2ms/step - loss: 0.3152 - accuracy: 0.8696\n",
      "Epoch 22/50\n",
      "229/229 [==============================] - 1s 2ms/step - loss: 0.3151 - accuracy: 0.8710\n",
      "Epoch 23/50\n",
      "229/229 [==============================] - 1s 3ms/step - loss: 0.3150 - accuracy: 0.8701: 0s - loss: 0.3269 \n",
      "Epoch 24/50\n",
      "229/229 [==============================] - 1s 2ms/step - loss: 0.3146 - accuracy: 0.8691: 0s - loss: 0.3155 \n",
      "Epoch 25/50\n",
      "229/229 [==============================] - 1s 2ms/step - loss: 0.3145 - accuracy: 0.8715\n",
      "Epoch 26/50\n",
      "229/229 [==============================] - 1s 2ms/step - loss: 0.3150 - accuracy: 0.8705\n",
      "Epoch 27/50\n",
      "229/229 [==============================] - 0s 2ms/step - loss: 0.3144 - accuracy: 0.8687\n",
      "Epoch 28/50\n",
      "229/229 [==============================] - 1s 2ms/step - loss: 0.3141 - accuracy: 0.8712\n",
      "Epoch 29/50\n",
      "229/229 [==============================] - 1s 2ms/step - loss: 0.3138 - accuracy: 0.8717\n",
      "Epoch 30/50\n",
      "229/229 [==============================] - 0s 2ms/step - loss: 0.3140 - accuracy: 0.8698\n",
      "Epoch 31/50\n",
      "229/229 [==============================] - 1s 2ms/step - loss: 0.3136 - accuracy: 0.8715\n",
      "Epoch 32/50\n",
      "229/229 [==============================] - 1s 3ms/step - loss: 0.3135 - accuracy: 0.8714\n",
      "Epoch 33/50\n",
      "229/229 [==============================] - 1s 3ms/step - loss: 0.3132 - accuracy: 0.8723\n",
      "Epoch 34/50\n",
      "229/229 [==============================] - 1s 2ms/step - loss: 0.3136 - accuracy: 0.8694\n",
      "Epoch 35/50\n",
      "229/229 [==============================] - 0s 2ms/step - loss: 0.3126 - accuracy: 0.8715\n",
      "Epoch 36/50\n",
      "229/229 [==============================] - 0s 2ms/step - loss: 0.3131 - accuracy: 0.8706\n",
      "Epoch 37/50\n",
      "229/229 [==============================] - 0s 2ms/step - loss: 0.3123 - accuracy: 0.8717\n",
      "Epoch 38/50\n",
      "229/229 [==============================] - 0s 2ms/step - loss: 0.3125 - accuracy: 0.8712: 0s - loss: 0.3190 - accuracy: \n",
      "Epoch 39/50\n",
      "229/229 [==============================] - 1s 2ms/step - loss: 0.3122 - accuracy: 0.8714: 0s - loss: 0.3074 - ac\n",
      "Epoch 40/50\n",
      "229/229 [==============================] - 1s 2ms/step - loss: 0.3126 - accuracy: 0.8711\n",
      "Epoch 41/50\n",
      "229/229 [==============================] - 0s 2ms/step - loss: 0.3118 - accuracy: 0.8727\n",
      "Epoch 42/50\n",
      "229/229 [==============================] - 1s 2ms/step - loss: 0.3111 - accuracy: 0.8717\n",
      "Epoch 43/50\n",
      "229/229 [==============================] - 1s 2ms/step - loss: 0.3119 - accuracy: 0.8723\n",
      "Epoch 44/50\n",
      "229/229 [==============================] - 1s 2ms/step - loss: 0.3114 - accuracy: 0.8731\n",
      "Epoch 45/50\n",
      "229/229 [==============================] - 1s 2ms/step - loss: 0.3115 - accuracy: 0.8721\n",
      "Epoch 46/50\n",
      "229/229 [==============================] - 0s 2ms/step - loss: 0.3117 - accuracy: 0.8725\n",
      "Epoch 47/50\n",
      "229/229 [==============================] - 1s 2ms/step - loss: 0.3115 - accuracy: 0.8720: 0s - loss: 0.3009 \n",
      "Epoch 48/50\n",
      "229/229 [==============================] - 1s 2ms/step - loss: 0.3111 - accuracy: 0.8721\n",
      "Epoch 49/50\n",
      "229/229 [==============================] - 1s 2ms/step - loss: 0.3107 - accuracy: 0.8720\n",
      "Epoch 50/50\n",
      "229/229 [==============================] - 0s 2ms/step - loss: 0.3107 - accuracy: 0.8705: 0s - loss: 0.3047 - \n"
     ]
    },
    {
     "data": {
      "text/plain": [
       "<keras.callbacks.History at 0x22c106222b0>"
      ]
     },
     "execution_count": 74,
     "metadata": {},
     "output_type": "execute_result"
    }
   ],
   "source": [
    "model.fit(X_train, y_train, batch_size=35, epochs=50)\n"
   ]
  },
  {
   "cell_type": "code",
   "execution_count": 75,
   "id": "05736e84",
   "metadata": {},
   "outputs": [
    {
     "name": "stdout",
     "output_type": "stream",
     "text": [
      "63/63 [==============================] - 0s 2ms/step - loss: 0.3475 - accuracy: 0.8540\n",
      "Test Accuracy: 85.40%\n"
     ]
    }
   ],
   "source": [
    "loss, accuracy = model.evaluate(X_test, y_test)\n",
    "print(f\"Test Accuracy: {accuracy*100:.2f}%\")"
   ]
  },
  {
   "cell_type": "code",
   "execution_count": 76,
   "id": "3ec3c2a2",
   "metadata": {},
   "outputs": [
    {
     "data": {
      "text/plain": [
       "(2000, 1)"
      ]
     },
     "execution_count": 76,
     "metadata": {},
     "output_type": "execute_result"
    }
   ],
   "source": [
    "y_pred = (model.predict(X_test))\n",
    "y_pred.shape  "
   ]
  },
  {
   "cell_type": "code",
   "execution_count": 77,
   "id": "94d60ff3",
   "metadata": {},
   "outputs": [],
   "source": [
    "np.set_printoptions(suppress=True)"
   ]
  },
  {
   "cell_type": "code",
   "execution_count": 78,
   "id": "f7536221",
   "metadata": {},
   "outputs": [
    {
     "data": {
      "text/plain": [
       "array([0.46225226], dtype=float32)"
      ]
     },
     "execution_count": 78,
     "metadata": {},
     "output_type": "execute_result"
    }
   ],
   "source": [
    "y_pred[15]"
   ]
  },
  {
   "cell_type": "code",
   "execution_count": 79,
   "id": "3dd9524d",
   "metadata": {},
   "outputs": [
    {
     "data": {
      "text/plain": [
       "9394    0\n",
       "898     1\n",
       "2398    0\n",
       "5906    0\n",
       "2343    0\n",
       "       ..\n",
       "1037    0\n",
       "2899    0\n",
       "9549    0\n",
       "2740    0\n",
       "6690    0\n",
       "Name: Exited, Length: 2000, dtype: int64"
      ]
     },
     "execution_count": 79,
     "metadata": {},
     "output_type": "execute_result"
    }
   ],
   "source": [
    "y_test"
   ]
  },
  {
   "cell_type": "code",
   "execution_count": 80,
   "id": "0948377a",
   "metadata": {},
   "outputs": [],
   "source": [
    "ans=np.argmax(y_pred,axis=1) #index of max ke liye"
   ]
  },
  {
   "cell_type": "code",
   "execution_count": 81,
   "id": "3ecc1ba2",
   "metadata": {},
   "outputs": [
    {
     "data": {
      "text/plain": [
       "array([0, 0, 0, ..., 0, 0, 0], dtype=int64)"
      ]
     },
     "execution_count": 81,
     "metadata": {},
     "output_type": "execute_result"
    }
   ],
   "source": [
    "ans"
   ]
  },
  {
   "cell_type": "code",
   "execution_count": 82,
   "id": "2fd6eaf1",
   "metadata": {},
   "outputs": [
    {
     "name": "stdout",
     "output_type": "stream",
     "text": [
      "Not Exited\n"
     ]
    }
   ],
   "source": [
    "new_customer = np.array([[600, 1, 40, 3, 60000, 2, 1, 1, 50000, 0, 1]])  # Germany: (France=0, Germany=1, Spain=0), Male=1\n",
    "new_customer = sc.transform(new_customer)  # Scale it\n",
    "\n",
    "prediction = model.predict(new_customer)\n",
    "print(\"Exited\" if prediction[0][0] > 0.5 else \"Not Exited\")\n"
   ]
  },
  {
   "cell_type": "code",
   "execution_count": null,
   "id": "f48fcce4",
   "metadata": {},
   "outputs": [],
   "source": []
  },
  {
   "cell_type": "code",
   "execution_count": null,
   "id": "eefbbf34",
   "metadata": {},
   "outputs": [],
   "source": []
  },
  {
   "cell_type": "code",
   "execution_count": null,
   "id": "c6189079",
   "metadata": {},
   "outputs": [],
   "source": []
  },
  {
   "cell_type": "code",
   "execution_count": null,
   "id": "23d365bc",
   "metadata": {},
   "outputs": [],
   "source": [
    "\n"
   ]
  },
  {
   "cell_type": "code",
   "execution_count": null,
   "id": "1ba5a222",
   "metadata": {},
   "outputs": [],
   "source": []
  },
  {
   "cell_type": "code",
   "execution_count": null,
   "id": "8523930e",
   "metadata": {},
   "outputs": [],
   "source": []
  },
  {
   "cell_type": "code",
   "execution_count": null,
   "id": "d201b79a",
   "metadata": {},
   "outputs": [],
   "source": []
  },
  {
   "cell_type": "code",
   "execution_count": null,
   "id": "1a351fe6",
   "metadata": {},
   "outputs": [],
   "source": []
  },
  {
   "cell_type": "code",
   "execution_count": null,
   "id": "2f6650bd",
   "metadata": {},
   "outputs": [],
   "source": []
  }
 ],
 "metadata": {
  "kernelspec": {
   "display_name": "Python 3",
   "language": "python",
   "name": "python3"
  },
  "language_info": {
   "codemirror_mode": {
    "name": "ipython",
    "version": 3
   },
   "file_extension": ".py",
   "mimetype": "text/x-python",
   "name": "python",
   "nbconvert_exporter": "python",
   "pygments_lexer": "ipython3",
   "version": "3.6.13"
  }
 },
 "nbformat": 4,
 "nbformat_minor": 5
}
