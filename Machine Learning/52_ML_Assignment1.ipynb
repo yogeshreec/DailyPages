{
 "cells": [
  {
   "cell_type": "code",
   "execution_count": 1,
   "id": "f204c52f",
   "metadata": {},
   "outputs": [],
   "source": [
    "import numpy as np\n",
    "import pandas as pd \n",
    "import matplotlib.pyplot as plt\n",
    "from scipy.stats import f_oneway"
   ]
  },
  {
   "cell_type": "code",
   "execution_count": 2,
   "id": "58ae56d2",
   "metadata": {},
   "outputs": [
    {
     "data": {
      "text/html": [
       "<div>\n",
       "<style scoped>\n",
       "    .dataframe tbody tr th:only-of-type {\n",
       "        vertical-align: middle;\n",
       "    }\n",
       "\n",
       "    .dataframe tbody tr th {\n",
       "        vertical-align: top;\n",
       "    }\n",
       "\n",
       "    .dataframe thead th {\n",
       "        text-align: right;\n",
       "    }\n",
       "</style>\n",
       "<table border=\"1\" class=\"dataframe\">\n",
       "  <thead>\n",
       "    <tr style=\"text-align: right;\">\n",
       "      <th></th>\n",
       "      <th>car_ID</th>\n",
       "      <th>symboling</th>\n",
       "      <th>CarName</th>\n",
       "      <th>fueltype</th>\n",
       "      <th>aspiration</th>\n",
       "      <th>doornumber</th>\n",
       "      <th>carbody</th>\n",
       "      <th>drivewheel</th>\n",
       "      <th>enginelocation</th>\n",
       "      <th>wheelbase</th>\n",
       "      <th>...</th>\n",
       "      <th>enginesize</th>\n",
       "      <th>fuelsystem</th>\n",
       "      <th>boreratio</th>\n",
       "      <th>stroke</th>\n",
       "      <th>compressionratio</th>\n",
       "      <th>horsepower</th>\n",
       "      <th>peakrpm</th>\n",
       "      <th>citympg</th>\n",
       "      <th>highwaympg</th>\n",
       "      <th>price</th>\n",
       "    </tr>\n",
       "  </thead>\n",
       "  <tbody>\n",
       "    <tr>\n",
       "      <th>0</th>\n",
       "      <td>1</td>\n",
       "      <td>3</td>\n",
       "      <td>alfa-romero giulia</td>\n",
       "      <td>gas</td>\n",
       "      <td>std</td>\n",
       "      <td>two</td>\n",
       "      <td>convertible</td>\n",
       "      <td>rwd</td>\n",
       "      <td>front</td>\n",
       "      <td>88.6</td>\n",
       "      <td>...</td>\n",
       "      <td>130</td>\n",
       "      <td>mpfi</td>\n",
       "      <td>3.47</td>\n",
       "      <td>2.68</td>\n",
       "      <td>9.0</td>\n",
       "      <td>111</td>\n",
       "      <td>5000</td>\n",
       "      <td>21</td>\n",
       "      <td>27</td>\n",
       "      <td>13495.0</td>\n",
       "    </tr>\n",
       "    <tr>\n",
       "      <th>1</th>\n",
       "      <td>2</td>\n",
       "      <td>3</td>\n",
       "      <td>alfa-romero stelvio</td>\n",
       "      <td>gas</td>\n",
       "      <td>std</td>\n",
       "      <td>two</td>\n",
       "      <td>convertible</td>\n",
       "      <td>rwd</td>\n",
       "      <td>front</td>\n",
       "      <td>88.6</td>\n",
       "      <td>...</td>\n",
       "      <td>130</td>\n",
       "      <td>mpfi</td>\n",
       "      <td>3.47</td>\n",
       "      <td>2.68</td>\n",
       "      <td>9.0</td>\n",
       "      <td>111</td>\n",
       "      <td>5000</td>\n",
       "      <td>21</td>\n",
       "      <td>27</td>\n",
       "      <td>16500.0</td>\n",
       "    </tr>\n",
       "    <tr>\n",
       "      <th>2</th>\n",
       "      <td>3</td>\n",
       "      <td>1</td>\n",
       "      <td>alfa-romero Quadrifoglio</td>\n",
       "      <td>gas</td>\n",
       "      <td>std</td>\n",
       "      <td>two</td>\n",
       "      <td>hatchback</td>\n",
       "      <td>rwd</td>\n",
       "      <td>front</td>\n",
       "      <td>94.5</td>\n",
       "      <td>...</td>\n",
       "      <td>152</td>\n",
       "      <td>mpfi</td>\n",
       "      <td>2.68</td>\n",
       "      <td>3.47</td>\n",
       "      <td>9.0</td>\n",
       "      <td>154</td>\n",
       "      <td>5000</td>\n",
       "      <td>19</td>\n",
       "      <td>26</td>\n",
       "      <td>16500.0</td>\n",
       "    </tr>\n",
       "    <tr>\n",
       "      <th>3</th>\n",
       "      <td>4</td>\n",
       "      <td>2</td>\n",
       "      <td>audi 100 ls</td>\n",
       "      <td>gas</td>\n",
       "      <td>std</td>\n",
       "      <td>four</td>\n",
       "      <td>sedan</td>\n",
       "      <td>fwd</td>\n",
       "      <td>front</td>\n",
       "      <td>99.8</td>\n",
       "      <td>...</td>\n",
       "      <td>109</td>\n",
       "      <td>mpfi</td>\n",
       "      <td>3.19</td>\n",
       "      <td>3.40</td>\n",
       "      <td>10.0</td>\n",
       "      <td>102</td>\n",
       "      <td>5500</td>\n",
       "      <td>24</td>\n",
       "      <td>30</td>\n",
       "      <td>13950.0</td>\n",
       "    </tr>\n",
       "    <tr>\n",
       "      <th>4</th>\n",
       "      <td>5</td>\n",
       "      <td>2</td>\n",
       "      <td>audi 100ls</td>\n",
       "      <td>gas</td>\n",
       "      <td>std</td>\n",
       "      <td>four</td>\n",
       "      <td>sedan</td>\n",
       "      <td>4wd</td>\n",
       "      <td>front</td>\n",
       "      <td>99.4</td>\n",
       "      <td>...</td>\n",
       "      <td>136</td>\n",
       "      <td>mpfi</td>\n",
       "      <td>3.19</td>\n",
       "      <td>3.40</td>\n",
       "      <td>8.0</td>\n",
       "      <td>115</td>\n",
       "      <td>5500</td>\n",
       "      <td>18</td>\n",
       "      <td>22</td>\n",
       "      <td>17450.0</td>\n",
       "    </tr>\n",
       "    <tr>\n",
       "      <th>...</th>\n",
       "      <td>...</td>\n",
       "      <td>...</td>\n",
       "      <td>...</td>\n",
       "      <td>...</td>\n",
       "      <td>...</td>\n",
       "      <td>...</td>\n",
       "      <td>...</td>\n",
       "      <td>...</td>\n",
       "      <td>...</td>\n",
       "      <td>...</td>\n",
       "      <td>...</td>\n",
       "      <td>...</td>\n",
       "      <td>...</td>\n",
       "      <td>...</td>\n",
       "      <td>...</td>\n",
       "      <td>...</td>\n",
       "      <td>...</td>\n",
       "      <td>...</td>\n",
       "      <td>...</td>\n",
       "      <td>...</td>\n",
       "      <td>...</td>\n",
       "    </tr>\n",
       "    <tr>\n",
       "      <th>200</th>\n",
       "      <td>201</td>\n",
       "      <td>-1</td>\n",
       "      <td>volvo 145e (sw)</td>\n",
       "      <td>gas</td>\n",
       "      <td>std</td>\n",
       "      <td>four</td>\n",
       "      <td>sedan</td>\n",
       "      <td>rwd</td>\n",
       "      <td>front</td>\n",
       "      <td>109.1</td>\n",
       "      <td>...</td>\n",
       "      <td>141</td>\n",
       "      <td>mpfi</td>\n",
       "      <td>3.78</td>\n",
       "      <td>3.15</td>\n",
       "      <td>9.5</td>\n",
       "      <td>114</td>\n",
       "      <td>5400</td>\n",
       "      <td>23</td>\n",
       "      <td>28</td>\n",
       "      <td>16845.0</td>\n",
       "    </tr>\n",
       "    <tr>\n",
       "      <th>201</th>\n",
       "      <td>202</td>\n",
       "      <td>-1</td>\n",
       "      <td>volvo 144ea</td>\n",
       "      <td>gas</td>\n",
       "      <td>turbo</td>\n",
       "      <td>four</td>\n",
       "      <td>sedan</td>\n",
       "      <td>rwd</td>\n",
       "      <td>front</td>\n",
       "      <td>109.1</td>\n",
       "      <td>...</td>\n",
       "      <td>141</td>\n",
       "      <td>mpfi</td>\n",
       "      <td>3.78</td>\n",
       "      <td>3.15</td>\n",
       "      <td>8.7</td>\n",
       "      <td>160</td>\n",
       "      <td>5300</td>\n",
       "      <td>19</td>\n",
       "      <td>25</td>\n",
       "      <td>19045.0</td>\n",
       "    </tr>\n",
       "    <tr>\n",
       "      <th>202</th>\n",
       "      <td>203</td>\n",
       "      <td>-1</td>\n",
       "      <td>volvo 244dl</td>\n",
       "      <td>gas</td>\n",
       "      <td>std</td>\n",
       "      <td>four</td>\n",
       "      <td>sedan</td>\n",
       "      <td>rwd</td>\n",
       "      <td>front</td>\n",
       "      <td>109.1</td>\n",
       "      <td>...</td>\n",
       "      <td>173</td>\n",
       "      <td>mpfi</td>\n",
       "      <td>3.58</td>\n",
       "      <td>2.87</td>\n",
       "      <td>8.8</td>\n",
       "      <td>134</td>\n",
       "      <td>5500</td>\n",
       "      <td>18</td>\n",
       "      <td>23</td>\n",
       "      <td>21485.0</td>\n",
       "    </tr>\n",
       "    <tr>\n",
       "      <th>203</th>\n",
       "      <td>204</td>\n",
       "      <td>-1</td>\n",
       "      <td>volvo 246</td>\n",
       "      <td>diesel</td>\n",
       "      <td>turbo</td>\n",
       "      <td>four</td>\n",
       "      <td>sedan</td>\n",
       "      <td>rwd</td>\n",
       "      <td>front</td>\n",
       "      <td>109.1</td>\n",
       "      <td>...</td>\n",
       "      <td>145</td>\n",
       "      <td>idi</td>\n",
       "      <td>3.01</td>\n",
       "      <td>3.40</td>\n",
       "      <td>23.0</td>\n",
       "      <td>106</td>\n",
       "      <td>4800</td>\n",
       "      <td>26</td>\n",
       "      <td>27</td>\n",
       "      <td>22470.0</td>\n",
       "    </tr>\n",
       "    <tr>\n",
       "      <th>204</th>\n",
       "      <td>205</td>\n",
       "      <td>-1</td>\n",
       "      <td>volvo 264gl</td>\n",
       "      <td>gas</td>\n",
       "      <td>turbo</td>\n",
       "      <td>four</td>\n",
       "      <td>sedan</td>\n",
       "      <td>rwd</td>\n",
       "      <td>front</td>\n",
       "      <td>109.1</td>\n",
       "      <td>...</td>\n",
       "      <td>141</td>\n",
       "      <td>mpfi</td>\n",
       "      <td>3.78</td>\n",
       "      <td>3.15</td>\n",
       "      <td>9.5</td>\n",
       "      <td>114</td>\n",
       "      <td>5400</td>\n",
       "      <td>19</td>\n",
       "      <td>25</td>\n",
       "      <td>22625.0</td>\n",
       "    </tr>\n",
       "  </tbody>\n",
       "</table>\n",
       "<p>205 rows × 26 columns</p>\n",
       "</div>"
      ],
      "text/plain": [
       "     car_ID  symboling                   CarName fueltype aspiration  \\\n",
       "0         1          3        alfa-romero giulia      gas        std   \n",
       "1         2          3       alfa-romero stelvio      gas        std   \n",
       "2         3          1  alfa-romero Quadrifoglio      gas        std   \n",
       "3         4          2               audi 100 ls      gas        std   \n",
       "4         5          2                audi 100ls      gas        std   \n",
       "..      ...        ...                       ...      ...        ...   \n",
       "200     201         -1           volvo 145e (sw)      gas        std   \n",
       "201     202         -1               volvo 144ea      gas      turbo   \n",
       "202     203         -1               volvo 244dl      gas        std   \n",
       "203     204         -1                 volvo 246   diesel      turbo   \n",
       "204     205         -1               volvo 264gl      gas      turbo   \n",
       "\n",
       "    doornumber      carbody drivewheel enginelocation  wheelbase  ...  \\\n",
       "0          two  convertible        rwd          front       88.6  ...   \n",
       "1          two  convertible        rwd          front       88.6  ...   \n",
       "2          two    hatchback        rwd          front       94.5  ...   \n",
       "3         four        sedan        fwd          front       99.8  ...   \n",
       "4         four        sedan        4wd          front       99.4  ...   \n",
       "..         ...          ...        ...            ...        ...  ...   \n",
       "200       four        sedan        rwd          front      109.1  ...   \n",
       "201       four        sedan        rwd          front      109.1  ...   \n",
       "202       four        sedan        rwd          front      109.1  ...   \n",
       "203       four        sedan        rwd          front      109.1  ...   \n",
       "204       four        sedan        rwd          front      109.1  ...   \n",
       "\n",
       "     enginesize  fuelsystem  boreratio  stroke compressionratio horsepower  \\\n",
       "0           130        mpfi       3.47    2.68              9.0        111   \n",
       "1           130        mpfi       3.47    2.68              9.0        111   \n",
       "2           152        mpfi       2.68    3.47              9.0        154   \n",
       "3           109        mpfi       3.19    3.40             10.0        102   \n",
       "4           136        mpfi       3.19    3.40              8.0        115   \n",
       "..          ...         ...        ...     ...              ...        ...   \n",
       "200         141        mpfi       3.78    3.15              9.5        114   \n",
       "201         141        mpfi       3.78    3.15              8.7        160   \n",
       "202         173        mpfi       3.58    2.87              8.8        134   \n",
       "203         145         idi       3.01    3.40             23.0        106   \n",
       "204         141        mpfi       3.78    3.15              9.5        114   \n",
       "\n",
       "     peakrpm citympg  highwaympg    price  \n",
       "0       5000      21          27  13495.0  \n",
       "1       5000      21          27  16500.0  \n",
       "2       5000      19          26  16500.0  \n",
       "3       5500      24          30  13950.0  \n",
       "4       5500      18          22  17450.0  \n",
       "..       ...     ...         ...      ...  \n",
       "200     5400      23          28  16845.0  \n",
       "201     5300      19          25  19045.0  \n",
       "202     5500      18          23  21485.0  \n",
       "203     4800      26          27  22470.0  \n",
       "204     5400      19          25  22625.0  \n",
       "\n",
       "[205 rows x 26 columns]"
      ]
     },
     "execution_count": 2,
     "metadata": {},
     "output_type": "execute_result"
    }
   ],
   "source": [
    "df=pd.read_csv(\"yogeshree chandankhede - CarPrice.csv\")\n",
    "df"
   ]
  },
  {
   "cell_type": "code",
   "execution_count": 3,
   "id": "be6eb574",
   "metadata": {},
   "outputs": [
    {
     "name": "stdout",
     "output_type": "stream",
     "text": [
      "<class 'pandas.core.frame.DataFrame'>\n",
      "RangeIndex: 205 entries, 0 to 204\n",
      "Data columns (total 26 columns):\n",
      " #   Column            Non-Null Count  Dtype  \n",
      "---  ------            --------------  -----  \n",
      " 0   car_ID            205 non-null    int64  \n",
      " 1   symboling         205 non-null    int64  \n",
      " 2   CarName           205 non-null    object \n",
      " 3   fueltype          205 non-null    object \n",
      " 4   aspiration        205 non-null    object \n",
      " 5   doornumber        205 non-null    object \n",
      " 6   carbody           205 non-null    object \n",
      " 7   drivewheel        205 non-null    object \n",
      " 8   enginelocation    205 non-null    object \n",
      " 9   wheelbase         205 non-null    float64\n",
      " 10  carlength         205 non-null    float64\n",
      " 11  carwidth          205 non-null    float64\n",
      " 12  carheight         205 non-null    float64\n",
      " 13  curbweight        205 non-null    int64  \n",
      " 14  enginetype        205 non-null    object \n",
      " 15  cylindernumber    205 non-null    object \n",
      " 16  enginesize        205 non-null    int64  \n",
      " 17  fuelsystem        205 non-null    object \n",
      " 18  boreratio         205 non-null    float64\n",
      " 19  stroke            205 non-null    float64\n",
      " 20  compressionratio  205 non-null    float64\n",
      " 21  horsepower        205 non-null    int64  \n",
      " 22  peakrpm           205 non-null    int64  \n",
      " 23  citympg           205 non-null    int64  \n",
      " 24  highwaympg        205 non-null    int64  \n",
      " 25  price             205 non-null    float64\n",
      "dtypes: float64(8), int64(8), object(10)\n",
      "memory usage: 41.8+ KB\n"
     ]
    }
   ],
   "source": [
    "df.info()"
   ]
  },
  {
   "cell_type": "code",
   "execution_count": 4,
   "id": "3457e11a",
   "metadata": {},
   "outputs": [
    {
     "data": {
      "text/plain": [
       "car_ID              0\n",
       "symboling           0\n",
       "CarName             0\n",
       "fueltype            0\n",
       "aspiration          0\n",
       "doornumber          0\n",
       "carbody             0\n",
       "drivewheel          0\n",
       "enginelocation      0\n",
       "wheelbase           0\n",
       "carlength           0\n",
       "carwidth            0\n",
       "carheight           0\n",
       "curbweight          0\n",
       "enginetype          0\n",
       "cylindernumber      0\n",
       "enginesize          0\n",
       "fuelsystem          0\n",
       "boreratio           0\n",
       "stroke              0\n",
       "compressionratio    0\n",
       "horsepower          0\n",
       "peakrpm             0\n",
       "citympg             0\n",
       "highwaympg          0\n",
       "price               0\n",
       "dtype: int64"
      ]
     },
     "execution_count": 4,
     "metadata": {},
     "output_type": "execute_result"
    }
   ],
   "source": [
    "df.isna().sum()"
   ]
  },
  {
   "cell_type": "code",
   "execution_count": 5,
   "id": "e537d3f9",
   "metadata": {},
   "outputs": [
    {
     "name": "stdout",
     "output_type": "stream",
     "text": [
      "fueltype\n",
      "diesel    [10795.0, 18344.0, 25552.0, 28248.0, 28176.0, ...\n",
      "gas       [13495.0, 16500.0, 16500.0, 13950.0, 17450.0, ...\n",
      "Name: price, dtype: object\n"
     ]
    },
    {
     "data": {
      "text/plain": [
       "F_onewayResult(statistic=2.2927407366575174, pvalue=0.13153563336537924)"
      ]
     },
     "execution_count": 5,
     "metadata": {},
     "output_type": "execute_result"
    }
   ],
   "source": [
    "CategoryGroupList_fueltype=df.groupby('fueltype')['price'].apply(list)\n",
    "print(CategoryGroupList_fueltype)\n",
    "f_oneway(*CategoryGroupList_fueltype)"
   ]
  },
  {
   "cell_type": "code",
   "execution_count": 6,
   "id": "0cb9b4eb",
   "metadata": {},
   "outputs": [
    {
     "name": "stdout",
     "output_type": "stream",
     "text": [
      "aspiration\n",
      "std      [13495.0, 16500.0, 16500.0, 13950.0, 17450.0, ...\n",
      "turbo    [23875.0, 17859.167, 7957.0, 8558.0, 12964.0, ...\n",
      "Name: price, dtype: object\n"
     ]
    },
    {
     "data": {
      "text/plain": [
       "F_onewayResult(statistic=6.636621968649918, pvalue=0.010700300833183433)"
      ]
     },
     "execution_count": 6,
     "metadata": {},
     "output_type": "execute_result"
    }
   ],
   "source": [
    "# price data for aspiration\n",
    "CategoryGroupList_aspiration=df.groupby('aspiration')['price'].apply(list)\n",
    "print(CategoryGroupList_aspiration)\n",
    "f_oneway(*CategoryGroupList_aspiration)"
   ]
  },
  {
   "cell_type": "code",
   "execution_count": 7,
   "id": "f43510f7",
   "metadata": {},
   "outputs": [
    {
     "name": "stdout",
     "output_type": "stream",
     "text": [
      "doornumber\n",
      "four    [13950.0, 17450.0, 17710.0, 18920.0, 23875.0, ...\n",
      "two     [13495.0, 16500.0, 16500.0, 15250.0, 17859.167...\n",
      "Name: price, dtype: object\n"
     ]
    },
    {
     "data": {
      "text/plain": [
       "F_onewayResult(statistic=0.20594600575940436, pvalue=0.6504483953298938)"
      ]
     },
     "execution_count": 7,
     "metadata": {},
     "output_type": "execute_result"
    }
   ],
   "source": [
    "#price data for doornumber\n",
    "CategoryGroupList_doornumber=df.groupby('doornumber')['price'].apply(list)\n",
    "print(CategoryGroupList_doornumber)\n",
    "f_oneway(*CategoryGroupList_doornumber)"
   ]
  },
  {
   "cell_type": "code",
   "execution_count": 8,
   "id": "36c23b59",
   "metadata": {},
   "outputs": [
    {
     "name": "stdout",
     "output_type": "stream",
     "text": [
      "carbody\n",
      "convertible    [13495.0, 16500.0, 35056.0, 37028.0, 17669.0, ...\n",
      "hardtop        [28176.0, 45400.0, 8249.0, 32528.0, 34028.0, 8...\n",
      "hatchback      [16500.0, 17859.167, 5151.0, 6295.0, 5572.0, 6...\n",
      "sedan          [13950.0, 17450.0, 15250.0, 17710.0, 23875.0, ...\n",
      "wagon          [18920.0, 8921.0, 7295.0, 28248.0, 7349.0, 799...\n",
      "Name: price, dtype: object\n",
      "F_onewayResult(statistic=8.031976496876302, pvalue=5.031712258477608e-06)\n"
     ]
    }
   ],
   "source": [
    "#price data for carbody\n",
    "CategoryGroupList_carbody=df.groupby('carbody')['price'].apply(list)\n",
    "print(CategoryGroupList_carbody)\n",
    "print(f_oneway(*CategoryGroupList_carbody))"
   ]
  },
  {
   "cell_type": "code",
   "execution_count": 9,
   "id": "fced466f",
   "metadata": {},
   "outputs": [
    {
     "name": "stdout",
     "output_type": "stream",
     "text": [
      "fuelsystem\n",
      "1bbl    [6479.0, 6855.0, 5399.0, 6529.0, 7129.0, 7295....\n",
      "2bbl    [5151.0, 6295.0, 6575.0, 5572.0, 6377.0, 6229....\n",
      "4bbl                          [10945.0, 11845.0, 13645.0]\n",
      "idi     [10795.0, 18344.0, 25552.0, 28248.0, 28176.0, ...\n",
      "mfi                                             [12964.0]\n",
      "mpfi    [13495.0, 16500.0, 16500.0, 13950.0, 17450.0, ...\n",
      "spdi    [7689.0, 9959.0, 12629.0, 14869.0, 14489.0, 92...\n",
      "spfi                                            [11048.0]\n",
      "Name: price, dtype: object\n"
     ]
    },
    {
     "data": {
      "text/plain": [
       "F_onewayResult(statistic=15.64186457466332, pvalue=2.9903859089321575e-16)"
      ]
     },
     "execution_count": 9,
     "metadata": {},
     "output_type": "execute_result"
    }
   ],
   "source": [
    "# price data for fuelsystem\n",
    "CategoryGroupList_fuelsystem=df.groupby('fuelsystem')['price'].apply(list)\n",
    "print(CategoryGroupList_fuelsystem)\n",
    "f_oneway(*CategoryGroupList_fuelsystem)"
   ]
  },
  {
   "cell_type": "code",
   "execution_count": 10,
   "id": "39186013",
   "metadata": {},
   "outputs": [
    {
     "name": "stdout",
     "output_type": "stream",
     "text": [
      "drivewheel\n",
      "4wd    [17450.0, 17859.167, 7603.0, 9233.0, 11259.0, ...\n",
      "fwd    [13950.0, 15250.0, 17710.0, 18920.0, 23875.0, ...\n",
      "rwd    [13495.0, 16500.0, 16500.0, 16430.0, 16925.0, ...\n",
      "Name: price, dtype: object\n"
     ]
    },
    {
     "data": {
      "text/plain": [
       "F_onewayResult(statistic=70.32055264969262, pvalue=6.632887281209634e-24)"
      ]
     },
     "execution_count": 10,
     "metadata": {},
     "output_type": "execute_result"
    }
   ],
   "source": [
    "# price data for drivewheel\n",
    "CategoryGroupList_drivewheel=df.groupby('drivewheel')['price'].apply(list)\n",
    "print(CategoryGroupList_drivewheel)\n",
    "f_oneway(*CategoryGroupList_drivewheel)"
   ]
  },
  {
   "cell_type": "code",
   "execution_count": 11,
   "id": "e30c806a",
   "metadata": {},
   "outputs": [
    {
     "name": "stdout",
     "output_type": "stream",
     "text": [
      "enginelocation\n",
      "front    [13495.0, 16500.0, 16500.0, 13950.0, 17450.0, ...\n",
      "rear                           [32528.0, 34028.0, 37028.0]\n",
      "Name: price, dtype: object\n"
     ]
    },
    {
     "data": {
      "text/plain": [
       "F_onewayResult(statistic=23.9697400547047, pvalue=1.993019639057392e-06)"
      ]
     },
     "execution_count": 11,
     "metadata": {},
     "output_type": "execute_result"
    }
   ],
   "source": [
    "#price data for enginelocation\n",
    "CategoryGroupList_enginelocation=df.groupby('enginelocation')['price'].apply(list)\n",
    "print(CategoryGroupList_enginelocation)\n",
    "f_oneway(*CategoryGroupList_enginelocation)"
   ]
  },
  {
   "cell_type": "code",
   "execution_count": 12,
   "id": "c4e8d9b1",
   "metadata": {},
   "outputs": [
    {
     "name": "stdout",
     "output_type": "stream",
     "text": [
      "enginetype\n",
      "dohc     [13495.0, 16500.0, 32250.0, 35550.0, 18150.0, ...\n",
      "dohcv                                            [31400.5]\n",
      "l        [5151.0, 11900.0, 13200.0, 12440.0, 13860.0, 1...\n",
      "ohc      [13950.0, 17450.0, 15250.0, 17710.0, 18920.0, ...\n",
      "ohcf     [32528.0, 34028.0, 37028.0, 5118.0, 7053.0, 76...\n",
      "ohcv     [16500.0, 36000.0, 34184.0, 35056.0, 40960.0, ...\n",
      "rotor                 [10945.0, 11845.0, 13645.0, 15645.0]\n",
      "Name: price, dtype: object\n"
     ]
    },
    {
     "data": {
      "text/plain": [
       "F_onewayResult(statistic=9.376220306463628, pvalue=4.692664568743044e-09)"
      ]
     },
     "execution_count": 12,
     "metadata": {},
     "output_type": "execute_result"
    }
   ],
   "source": [
    "#price data for enginetype\n",
    "CategoryGroupList_enginetype=df.groupby('enginetype')['price'].apply(list)\n",
    "print(CategoryGroupList_enginetype)\n",
    "f_oneway(*CategoryGroupList_enginetype)"
   ]
  },
  {
   "cell_type": "code",
   "execution_count": 13,
   "id": "a754ec5f",
   "metadata": {},
   "outputs": [
    {
     "name": "stdout",
     "output_type": "stream",
     "text": [
      "cylindernumber\n",
      "eight         [34184.0, 35056.0, 40960.0, 45400.0, 31400.5]\n",
      "five      [17450.0, 15250.0, 17710.0, 18920.0, 23875.0, ...\n",
      "four      [13495.0, 16500.0, 13950.0, 16430.0, 16925.0, ...\n",
      "six       [16500.0, 20970.0, 21105.0, 24565.0, 30760.0, ...\n",
      "three                                              [5151.0]\n",
      "twelve                                            [36000.0]\n",
      "two                    [10945.0, 11845.0, 13645.0, 15645.0]\n",
      "Name: price, dtype: object\n"
     ]
    },
    {
     "data": {
      "text/plain": [
       "F_onewayResult(statistic=57.568880995353695, pvalue=8.065780498463557e-41)"
      ]
     },
     "execution_count": 13,
     "metadata": {},
     "output_type": "execute_result"
    }
   ],
   "source": [
    "#price data for cylindernumber\n",
    "CategoryGroupList_cylindernumber=df.groupby('cylindernumber')['price'].apply(list)\n",
    "print(CategoryGroupList_cylindernumber)\n",
    "f_oneway(*CategoryGroupList_cylindernumber)"
   ]
  },
  {
   "cell_type": "code",
   "execution_count": 14,
   "id": "631d45ef",
   "metadata": {},
   "outputs": [
    {
     "name": "stdout",
     "output_type": "stream",
     "text": [
      "CarName\n",
      "Nissan versa                          [5499.0]\n",
      "alfa-romero Quadrifoglio             [16500.0]\n",
      "alfa-romero giulia                   [13495.0]\n",
      "alfa-romero stelvio                  [16500.0]\n",
      "audi 100 ls                          [13950.0]\n",
      "                                   ...        \n",
      "volvo 246                            [22470.0]\n",
      "volvo 264gl                 [18420.0, 22625.0]\n",
      "volvo diesel                         [18950.0]\n",
      "vw dasher                            [11595.0]\n",
      "vw rabbit                             [9980.0]\n",
      "Name: price, Length: 147, dtype: object\n"
     ]
    },
    {
     "data": {
      "text/plain": [
       "F_onewayResult(statistic=8.421907781044004, pvalue=6.414986719214914e-16)"
      ]
     },
     "execution_count": 14,
     "metadata": {},
     "output_type": "execute_result"
    }
   ],
   "source": [
    "#price data for fueltype\n",
    "CategoryGroupList_fueltype=df.groupby('CarName')['price'].apply(list)\n",
    "print(CategoryGroupList_fueltype)\n",
    "f_oneway(*CategoryGroupList_fueltype)"
   ]
  },
  {
   "cell_type": "code",
   "execution_count": 15,
   "id": "f64afd5a",
   "metadata": {},
   "outputs": [],
   "source": [
    "cylindernumber_maping={'four':4,'six':6,'five':5,'eight':8,'two':2,'three':3,'twelve':12}\n",
    "df['cylindernumber']=df['cylindernumber'].map(cylindernumber_maping)"
   ]
  },
  {
   "cell_type": "code",
   "execution_count": 16,
   "id": "47aac5e9",
   "metadata": {},
   "outputs": [
    {
     "data": {
      "text/html": [
       "<div>\n",
       "<style scoped>\n",
       "    .dataframe tbody tr th:only-of-type {\n",
       "        vertical-align: middle;\n",
       "    }\n",
       "\n",
       "    .dataframe tbody tr th {\n",
       "        vertical-align: top;\n",
       "    }\n",
       "\n",
       "    .dataframe thead th {\n",
       "        text-align: right;\n",
       "    }\n",
       "</style>\n",
       "<table border=\"1\" class=\"dataframe\">\n",
       "  <thead>\n",
       "    <tr style=\"text-align: right;\">\n",
       "      <th></th>\n",
       "      <th>price</th>\n",
       "    </tr>\n",
       "  </thead>\n",
       "  <tbody>\n",
       "    <tr>\n",
       "      <th>symboling</th>\n",
       "      <td>-0.079978</td>\n",
       "    </tr>\n",
       "    <tr>\n",
       "      <th>wheelbase</th>\n",
       "      <td>0.577816</td>\n",
       "    </tr>\n",
       "    <tr>\n",
       "      <th>carlength</th>\n",
       "      <td>0.682920</td>\n",
       "    </tr>\n",
       "    <tr>\n",
       "      <th>cylindernumber</th>\n",
       "      <td>0.718305</td>\n",
       "    </tr>\n",
       "    <tr>\n",
       "      <th>carwidth</th>\n",
       "      <td>0.759325</td>\n",
       "    </tr>\n",
       "    <tr>\n",
       "      <th>carheight</th>\n",
       "      <td>0.119336</td>\n",
       "    </tr>\n",
       "    <tr>\n",
       "      <th>curbweight</th>\n",
       "      <td>0.835305</td>\n",
       "    </tr>\n",
       "    <tr>\n",
       "      <th>enginesize</th>\n",
       "      <td>0.874145</td>\n",
       "    </tr>\n",
       "    <tr>\n",
       "      <th>boreratio</th>\n",
       "      <td>0.553173</td>\n",
       "    </tr>\n",
       "    <tr>\n",
       "      <th>stroke</th>\n",
       "      <td>0.079443</td>\n",
       "    </tr>\n",
       "    <tr>\n",
       "      <th>compressionratio</th>\n",
       "      <td>0.067984</td>\n",
       "    </tr>\n",
       "    <tr>\n",
       "      <th>horsepower</th>\n",
       "      <td>0.808139</td>\n",
       "    </tr>\n",
       "    <tr>\n",
       "      <th>peakrpm</th>\n",
       "      <td>-0.085267</td>\n",
       "    </tr>\n",
       "    <tr>\n",
       "      <th>citympg</th>\n",
       "      <td>-0.685751</td>\n",
       "    </tr>\n",
       "    <tr>\n",
       "      <th>highwaympg</th>\n",
       "      <td>-0.697599</td>\n",
       "    </tr>\n",
       "    <tr>\n",
       "      <th>price</th>\n",
       "      <td>1.000000</td>\n",
       "    </tr>\n",
       "  </tbody>\n",
       "</table>\n",
       "</div>"
      ],
      "text/plain": [
       "                     price\n",
       "symboling        -0.079978\n",
       "wheelbase         0.577816\n",
       "carlength         0.682920\n",
       "cylindernumber    0.718305\n",
       "carwidth          0.759325\n",
       "carheight         0.119336\n",
       "curbweight        0.835305\n",
       "enginesize        0.874145\n",
       "boreratio         0.553173\n",
       "stroke            0.079443\n",
       "compressionratio  0.067984\n",
       "horsepower        0.808139\n",
       "peakrpm          -0.085267\n",
       "citympg          -0.685751\n",
       "highwaympg       -0.697599\n",
       "price             1.000000"
      ]
     },
     "execution_count": 16,
     "metadata": {},
     "output_type": "execute_result"
    }
   ],
   "source": [
    "cols=[\"symboling\",\"wheelbase\",\"carlength\",\"cylindernumber\",\"carwidth\",\"carheight\",\"curbweight\",\"enginesize\",\n",
    "      \"boreratio\",\"stroke\",\"compressionratio\",\"horsepower\",\"peakrpm\",\"citympg\",\"highwaympg\",\"price\"]\n",
    "df[cols].corr()[[\"price\"]]"
   ]
  },
  {
   "cell_type": "code",
   "execution_count": 17,
   "id": "15373bf2",
   "metadata": {},
   "outputs": [
    {
     "data": {
      "text/plain": [
       "<matplotlib.collections.PathCollection at 0x1f07fc56f60>"
      ]
     },
     "execution_count": 17,
     "metadata": {},
     "output_type": "execute_result"
    },
    {
     "data": {
      "image/png": "[encoded data removed]",
      "text/plain": [
       "<Figure size 432x288 with 1 Axes>"
      ]
     },
     "metadata": {
      "needs_background": "light"
     },
     "output_type": "display_data"
    }
   ],
   "source": [
    "plt.scatter(df['wheelbase'],df['price'],s=25)"
   ]
  },
  {
   "cell_type": "code",
   "execution_count": 18,
   "id": "44b8e0c6",
   "metadata": {},
   "outputs": [
    {
     "data": {
      "text/plain": [
       "<matplotlib.collections.PathCollection at 0x1f07fd6e588>"
      ]
     },
     "execution_count": 18,
     "metadata": {},
     "output_type": "execute_result"
    },
    {
     "data": {
      "image/png": "[encoded data removed]",
      "text/plain": [
       "<Figure size 432x288 with 1 Axes>"
      ]
     },
     "metadata": {
      "needs_background": "light"
     },
     "output_type": "display_data"
    }
   ],
   "source": [
    "plt.scatter(df['carlength'],df['price'],s=25)"
   ]
  },
  {
   "cell_type": "code",
   "execution_count": 19,
   "id": "e986fd7f",
   "metadata": {},
   "outputs": [
    {
     "data": {
      "text/plain": [
       "<matplotlib.collections.PathCollection at 0x1f07fdc44a8>"
      ]
     },
     "execution_count": 19,
     "metadata": {},
     "output_type": "execute_result"
    },
    {
     "data": {
      "image/png": "[encoded data removed]",
      "text/plain": [
       "<Figure size 432x288 with 1 Axes>"
      ]
     },
     "metadata": {
      "needs_background": "light"
     },
     "output_type": "display_data"
    }
   ],
   "source": [
    "plt.scatter(df['carwidth'],df['price'],s=25)"
   ]
  },
  {
   "cell_type": "code",
   "execution_count": 20,
   "id": "82111f89",
   "metadata": {},
   "outputs": [
    {
     "data": {
      "text/plain": [
       "<matplotlib.collections.PathCollection at 0x1f07fe48cc0>"
      ]
     },
     "execution_count": 20,
     "metadata": {},
     "output_type": "execute_result"
    },
    {
     "data": {
      "image/png": "[encoded data removed]",
      "text/plain": [
       "<Figure size 432x288 with 1 Axes>"
      ]
     },
     "metadata": {
      "needs_background": "light"
     },
     "output_type": "display_data"
    }
   ],
   "source": [
    "plt.scatter(df['carheight'],df['price'],s=25)"
   ]
  },
  {
   "cell_type": "code",
   "execution_count": 21,
   "id": "10ac1caa",
   "metadata": {},
   "outputs": [
    {
     "data": {
      "text/plain": [
       "<matplotlib.collections.PathCollection at 0x1f07fe9eef0>"
      ]
     },
     "execution_count": 21,
     "metadata": {},
     "output_type": "execute_result"
    },
    {
     "data": {
      "image/png": "[encoded data removed]",
      "text/plain": [
       "<Figure size 432x288 with 1 Axes>"
      ]
     },
     "metadata": {
      "needs_background": "light"
     },
     "output_type": "display_data"
    }
   ],
   "source": [
    "plt.scatter(df['curbweight'],df['price'],s=25)"
   ]
  },
  {
   "cell_type": "code",
   "execution_count": 22,
   "id": "0bebef5e",
   "metadata": {},
   "outputs": [
    {
     "data": {
      "text/plain": [
       "<matplotlib.collections.PathCollection at 0x1f07ff24be0>"
      ]
     },
     "execution_count": 22,
     "metadata": {},
     "output_type": "execute_result"
    },
    {
     "data": {
      "image/png": "[encoded data removed]",
      "text/plain": [
       "<Figure size 432x288 with 1 Axes>"
      ]
     },
     "metadata": {
      "needs_background": "light"
     },
     "output_type": "display_data"
    }
   ],
   "source": [
    "plt.scatter(df['enginesize'],df['price'],s=25)"
   ]
  },
  {
   "cell_type": "code",
   "execution_count": 23,
   "id": "0e5d7f1b",
   "metadata": {},
   "outputs": [
    {
     "data": {
      "text/plain": [
       "<matplotlib.collections.PathCollection at 0x1f07ff90898>"
      ]
     },
     "execution_count": 23,
     "metadata": {},
     "output_type": "execute_result"
    },
    {
     "data": {
      "image/png": "[encoded data removed]",
      "text/plain": [
       "<Figure size 432x288 with 1 Axes>"
      ]
     },
     "metadata": {
      "needs_background": "light"
     },
     "output_type": "display_data"
    }
   ],
   "source": [
    "plt.scatter(df['boreratio'],df['price'],s=25)"
   ]
  },
  {
   "cell_type": "code",
   "execution_count": 24,
   "id": "a5b2dd44",
   "metadata": {},
   "outputs": [
    {
     "data": {
      "text/plain": [
       "<matplotlib.collections.PathCollection at 0x1f046ff8160>"
      ]
     },
     "execution_count": 24,
     "metadata": {},
     "output_type": "execute_result"
    },
    {
     "data": {
      "image/png": "[encoded data removed]",
      "text/plain": [
       "<Figure size 432x288 with 1 Axes>"
      ]
     },
     "metadata": {
      "needs_background": "light"
     },
     "output_type": "display_data"
    }
   ],
   "source": [
    "plt.scatter(df['stroke'],df['price'],s=25)"
   ]
  },
  {
   "cell_type": "code",
   "execution_count": 25,
   "id": "3462002e",
   "metadata": {},
   "outputs": [
    {
     "data": {
      "text/plain": [
       "<matplotlib.collections.PathCollection at 0x1f04705a828>"
      ]
     },
     "execution_count": 25,
     "metadata": {},
     "output_type": "execute_result"
    },
    {
     "data": {
      "image/png": "[encoded data removed]",
      "text/plain": [
       "<Figure size 432x288 with 1 Axes>"
      ]
     },
     "metadata": {
      "needs_background": "light"
     },
     "output_type": "display_data"
    }
   ],
   "source": [
    "plt.scatter(df['compressionratio'],df['price'],s=25)"
   ]
  },
  {
   "cell_type": "code",
   "execution_count": 26,
   "id": "96a1a891",
   "metadata": {},
   "outputs": [
    {
     "data": {
      "text/plain": [
       "<matplotlib.collections.PathCollection at 0x1f0470d5048>"
      ]
     },
     "execution_count": 26,
     "metadata": {},
     "output_type": "execute_result"
    },
    {
     "data": {
      "image/png": "[encoded data removed]",
      "text/plain": [
       "<Figure size 432x288 with 1 Axes>"
      ]
     },
     "metadata": {
      "needs_background": "light"
     },
     "output_type": "display_data"
    }
   ],
   "source": [
    "plt.scatter(df['horsepower'],df['price'],s=25)"
   ]
  },
  {
   "cell_type": "code",
   "execution_count": 27,
   "id": "f58458cc",
   "metadata": {},
   "outputs": [
    {
     "data": {
      "text/plain": [
       "<matplotlib.collections.PathCollection at 0x1f047130e10>"
      ]
     },
     "execution_count": 27,
     "metadata": {},
     "output_type": "execute_result"
    },
    {
     "data": {
      "image/png": "[encoded data removed]",
      "text/plain": [
       "<Figure size 432x288 with 1 Axes>"
      ]
     },
     "metadata": {
      "needs_background": "light"
     },
     "output_type": "display_data"
    }
   ],
   "source": [
    "plt.scatter(df['peakrpm'],df['price'],s=25)"
   ]
  },
  {
   "cell_type": "code",
   "execution_count": 28,
   "id": "75b544de",
   "metadata": {},
   "outputs": [
    {
     "data": {
      "text/plain": [
       "<matplotlib.collections.PathCollection at 0x1f04719a4a8>"
      ]
     },
     "execution_count": 28,
     "metadata": {},
     "output_type": "execute_result"
    },
    {
     "data": {
      "image/png": "[encoded data removed]",
      "text/plain": [
       "<Figure size 432x288 with 1 Axes>"
      ]
     },
     "metadata": {
      "needs_background": "light"
     },
     "output_type": "display_data"
    }
   ],
   "source": [
    "plt.scatter(df['citympg'],df['price'],s=25)"
   ]
  },
  {
   "cell_type": "code",
   "execution_count": 29,
   "id": "2d240b4b",
   "metadata": {},
   "outputs": [
    {
     "data": {
      "text/plain": [
       "<matplotlib.collections.PathCollection at 0x1f047205cc0>"
      ]
     },
     "execution_count": 29,
     "metadata": {},
     "output_type": "execute_result"
    },
    {
     "data": {
      "image/png": "[encoded data removed]",
      "text/plain": [
       "<Figure size 432x288 with 1 Axes>"
      ]
     },
     "metadata": {
      "needs_background": "light"
     },
     "output_type": "display_data"
    }
   ],
   "source": [
    "plt.scatter(df['highwaympg'],df['price'],s=25)"
   ]
  },
  {
   "cell_type": "code",
   "execution_count": 30,
   "id": "cd440052",
   "metadata": {},
   "outputs": [
    {
     "data": {
      "text/plain": [
       "<matplotlib.collections.PathCollection at 0x1f047279b00>"
      ]
     },
     "execution_count": 30,
     "metadata": {},
     "output_type": "execute_result"
    },
    {
     "data": {
      "image/png": "[encoded data removed]",
      "text/plain": [
       "<Figure size 432x288 with 1 Axes>"
      ]
     },
     "metadata": {
      "needs_background": "light"
     },
     "output_type": "display_data"
    }
   ],
   "source": [
    "plt.scatter(df['symboling'],df['price'],s=25)"
   ]
  },
  {
   "cell_type": "code",
   "execution_count": 31,
   "id": "2d407685",
   "metadata": {},
   "outputs": [],
   "source": [
    "from sklearn.preprocessing import OneHotEncoder"
   ]
  },
  {
   "cell_type": "code",
   "execution_count": 32,
   "id": "b856c071",
   "metadata": {},
   "outputs": [],
   "source": [
    "from sklearn.compose import ColumnTransformer"
   ]
  },
  {
   "cell_type": "code",
   "execution_count": 33,
   "id": "2163b6fa",
   "metadata": {},
   "outputs": [],
   "source": [
    "X=df.loc[:,['aspiration','carbody','fuelsystem','drivewheel','enginelocation','enginetype','wheelbase','carlength','carwidth','curbweight',\n",
    "            'cylindernumber','enginesize','boreratio','horsepower','citympg','highwaympg']]\n",
    "y=df.iloc[:,-1]"
   ]
  },
  {
   "cell_type": "code",
   "execution_count": 34,
   "id": "eceb2fe5",
   "metadata": {},
   "outputs": [
    {
     "data": {
      "text/plain": [
       "(205, 16)"
      ]
     },
     "execution_count": 34,
     "metadata": {},
     "output_type": "execute_result"
    }
   ],
   "source": [
    "X.shape"
   ]
  },
  {
   "cell_type": "code",
   "execution_count": 35,
   "id": "e01684f7",
   "metadata": {},
   "outputs": [],
   "source": [
    "np.set_printoptions(suppress=True)"
   ]
  },
  {
   "cell_type": "code",
   "execution_count": 36,
   "id": "549a90e7",
   "metadata": {},
   "outputs": [],
   "source": [
    "textual_feature=['aspiration','carbody','fuelsystem','drivewheel','enginelocation','enginetype']\n",
    "ct=ColumnTransformer(\n",
    "    [('ohe',OneHotEncoder(),textual_feature)],\n",
    "    remainder='passthrough'\n",
    ")\n",
    "X=ct.fit_transform(X)"
   ]
  },
  {
   "cell_type": "code",
   "execution_count": 37,
   "id": "6dd29a18",
   "metadata": {},
   "outputs": [
    {
     "data": {
      "text/plain": [
       "array([[   1.  ,    0.  ,    1.  ,    0.  ,    0.  ,    0.  ,    0.  ,\n",
       "           0.  ,    0.  ,    0.  ,    0.  ,    0.  ,    1.  ,    0.  ,\n",
       "           0.  ,    0.  ,    0.  ,    1.  ,    1.  ,    0.  ,    1.  ,\n",
       "           0.  ,    0.  ,    0.  ,    0.  ,    0.  ,    0.  ,   88.6 ,\n",
       "         168.8 ,   64.1 , 2548.  ,    4.  ,  130.  ,    3.47,  111.  ,\n",
       "          21.  ,   27.  ],\n",
       "       [   1.  ,    0.  ,    1.  ,    0.  ,    0.  ,    0.  ,    0.  ,\n",
       "           0.  ,    0.  ,    0.  ,    0.  ,    0.  ,    1.  ,    0.  ,\n",
       "           0.  ,    0.  ,    0.  ,    1.  ,    1.  ,    0.  ,    1.  ,\n",
       "           0.  ,    0.  ,    0.  ,    0.  ,    0.  ,    0.  ,   88.6 ,\n",
       "         168.8 ,   64.1 , 2548.  ,    4.  ,  130.  ,    3.47,  111.  ,\n",
       "          21.  ,   27.  ],\n",
       "       [   1.  ,    0.  ,    0.  ,    0.  ,    1.  ,    0.  ,    0.  ,\n",
       "           0.  ,    0.  ,    0.  ,    0.  ,    0.  ,    1.  ,    0.  ,\n",
       "           0.  ,    0.  ,    0.  ,    1.  ,    1.  ,    0.  ,    0.  ,\n",
       "           0.  ,    0.  ,    0.  ,    0.  ,    1.  ,    0.  ,   94.5 ,\n",
       "         171.2 ,   65.5 , 2823.  ,    6.  ,  152.  ,    2.68,  154.  ,\n",
       "          19.  ,   26.  ],\n",
       "       [   1.  ,    0.  ,    0.  ,    0.  ,    0.  ,    1.  ,    0.  ,\n",
       "           0.  ,    0.  ,    0.  ,    0.  ,    0.  ,    1.  ,    0.  ,\n",
       "           0.  ,    0.  ,    1.  ,    0.  ,    1.  ,    0.  ,    0.  ,\n",
       "           0.  ,    0.  ,    1.  ,    0.  ,    0.  ,    0.  ,   99.8 ,\n",
       "         176.6 ,   66.2 , 2337.  ,    4.  ,  109.  ,    3.19,  102.  ,\n",
       "          24.  ,   30.  ],\n",
       "       [   1.  ,    0.  ,    0.  ,    0.  ,    0.  ,    1.  ,    0.  ,\n",
       "           0.  ,    0.  ,    0.  ,    0.  ,    0.  ,    1.  ,    0.  ,\n",
       "           0.  ,    1.  ,    0.  ,    0.  ,    1.  ,    0.  ,    0.  ,\n",
       "           0.  ,    0.  ,    1.  ,    0.  ,    0.  ,    0.  ,   99.4 ,\n",
       "         176.6 ,   66.4 , 2824.  ,    5.  ,  136.  ,    3.19,  115.  ,\n",
       "          18.  ,   22.  ],\n",
       "       [   1.  ,    0.  ,    0.  ,    0.  ,    0.  ,    1.  ,    0.  ,\n",
       "           0.  ,    0.  ,    0.  ,    0.  ,    0.  ,    1.  ,    0.  ,\n",
       "           0.  ,    0.  ,    1.  ,    0.  ,    1.  ,    0.  ,    0.  ,\n",
       "           0.  ,    0.  ,    1.  ,    0.  ,    0.  ,    0.  ,   99.8 ,\n",
       "         177.3 ,   66.3 , 2507.  ,    5.  ,  136.  ,    3.19,  110.  ,\n",
       "          19.  ,   25.  ]])"
      ]
     },
     "execution_count": 37,
     "metadata": {},
     "output_type": "execute_result"
    }
   ],
   "source": [
    "X[:6]"
   ]
  },
  {
   "cell_type": "code",
   "execution_count": 38,
   "id": "a3e2e56f",
   "metadata": {},
   "outputs": [],
   "source": [
    "# train test split\n",
    "from sklearn.model_selection import train_test_split"
   ]
  },
  {
   "cell_type": "code",
   "execution_count": 39,
   "id": "20b14374",
   "metadata": {},
   "outputs": [
    {
     "name": "stdout",
     "output_type": "stream",
     "text": [
      "(143, 37) (62, 37) (143,) (62,)\n"
     ]
    }
   ],
   "source": [
    "X_train,X_test,y_train,y_test=train_test_split(X,y,test_size=.3,random_state=5)\n",
    "print(X_train.shape,X_test.shape,y_train.shape,y_test.shape)"
   ]
  },
  {
   "cell_type": "code",
   "execution_count": 40,
   "id": "1f9a239b",
   "metadata": {},
   "outputs": [],
   "source": [
    "from sklearn.linear_model import LinearRegression"
   ]
  },
  {
   "cell_type": "code",
   "execution_count": 41,
   "id": "75eb4dfb",
   "metadata": {},
   "outputs": [
    {
     "data": {
      "text/plain": [
       "LinearRegression()"
      ]
     },
     "execution_count": 41,
     "metadata": {},
     "output_type": "execute_result"
    }
   ],
   "source": [
    "model=LinearRegression()\n",
    "model.fit(X_train,y_train)"
   ]
  },
  {
   "cell_type": "code",
   "execution_count": 42,
   "id": "d40fb0ea",
   "metadata": {},
   "outputs": [
    {
     "data": {
      "text/plain": [
       "(62,)"
      ]
     },
     "execution_count": 42,
     "metadata": {},
     "output_type": "execute_result"
    }
   ],
   "source": [
    "y_hat=model.predict(X_test)\n",
    "y_hat.shape"
   ]
  },
  {
   "cell_type": "code",
   "execution_count": 43,
   "id": "1e943457",
   "metadata": {},
   "outputs": [],
   "source": [
    "from sklearn.metrics import r2_score,mean_squared_error,mean_absolute_error"
   ]
  },
  {
   "cell_type": "code",
   "execution_count": 44,
   "id": "8bd0ec8d",
   "metadata": {},
   "outputs": [
    {
     "data": {
      "text/plain": [
       "0.8788003367835446"
      ]
     },
     "execution_count": 44,
     "metadata": {},
     "output_type": "execute_result"
    }
   ],
   "source": [
    "r2_score(y_test,y_hat)"
   ]
  },
  {
   "cell_type": "code",
   "execution_count": 45,
   "id": "370962a8",
   "metadata": {},
   "outputs": [
    {
     "data": {
      "text/plain": [
       "8273363.335470877"
      ]
     },
     "execution_count": 45,
     "metadata": {},
     "output_type": "execute_result"
    }
   ],
   "source": [
    "mean_squared_error(y_test,y_hat)"
   ]
  },
  {
   "cell_type": "code",
   "execution_count": 46,
   "id": "24b493e9",
   "metadata": {},
   "outputs": [
    {
     "data": {
      "text/plain": [
       "1913.7920866935483"
      ]
     },
     "execution_count": 46,
     "metadata": {},
     "output_type": "execute_result"
    }
   ],
   "source": [
    "mean_absolute_error(y_test,y_hat)"
   ]
  },
  {
   "cell_type": "code",
   "execution_count": null,
   "id": "66cf3682",
   "metadata": {},
   "outputs": [],
   "source": []
  }
 ],
 "metadata": {
  "kernelspec": {
   "display_name": "Python 3",
   "language": "python",
   "name": "python3"
  },
  "language_info": {
   "codemirror_mode": {
    "name": "ipython",
    "version": 3
   },
   "file_extension": ".py",
   "mimetype": "text/x-python",
   "name": "python",
   "nbconvert_exporter": "python",
   "pygments_lexer": "ipython3",
   "version": "3.6.13"
  }
 },
 "nbformat": 4,
 "nbformat_minor": 5
}
