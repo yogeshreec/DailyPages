{
 "cells": [
  {
   "cell_type": "raw",
   "id": "a739edc2",
   "metadata": {},
   "source": [
    "import pandas as pd\n",
    "import numpy as np\n",
    "import matplotlib.pyplot as plt\n",
    "from tensorflow.keras.preprocessing import image\n",
    "from tensorflow.keras.layers import Conv2D,MaxPooling2D,Flatten,Dense\n",
    "from tensorflow.keras.datasets import fashion_mnist"
   ]
  },
  {
   "cell_type": "code",
   "execution_count": 3,
   "id": "be1028d2",
   "metadata": {},
   "outputs": [
    {
     "name": "stdout",
     "output_type": "stream",
     "text": [
      "Downloading data from https://storage.googleapis.com/tensorflow/tf-keras-datasets/train-labels-idx1-ubyte.gz\n",
      "32768/29515 [=================================] - 0s 0us/step\n",
      "40960/29515 [=========================================] - 0s 0us/step\n",
      "Downloading data from https://storage.googleapis.com/tensorflow/tf-keras-datasets/train-images-idx3-ubyte.gz\n",
      "26427392/26421880 [==============================] - 3s 0us/step\n",
      "26435584/26421880 [==============================] - 3s 0us/step\n",
      "Downloading data from https://storage.googleapis.com/tensorflow/tf-keras-datasets/t10k-labels-idx1-ubyte.gz\n",
      "16384/5148 [===============================================================================================] - 0s 0s/step\n",
      "Downloading data from https://storage.googleapis.com/tensorflow/tf-keras-datasets/t10k-images-idx3-ubyte.gz\n",
      "4423680/4422102 [==============================] - 0s 0us/step\n",
      "4431872/4422102 [==============================] - 0s 0us/step\n"
     ]
    }
   ],
   "source": [
    "(train_images,train_labels),(test_images,test_labels)=fashion_mnist.load_data()"
   ]
  },
  {
   "cell_type": "code",
   "execution_count": 17,
   "id": "28343ea7",
   "metadata": {},
   "outputs": [
    {
     "data": {
      "text/plain": [
       "array([9, 0, 0, ..., 3, 0, 5], dtype=uint8)"
      ]
     },
     "execution_count": 17,
     "metadata": {},
     "output_type": "execute_result"
    }
   ],
   "source": [
    "train_labels"
   ]
  },
  {
   "cell_type": "code",
   "execution_count": 18,
   "id": "be9f7e7f",
   "metadata": {},
   "outputs": [],
   "source": [
    "label = [\"T-shirt/top\",\"Trouser\",\"Pullover\",\"Dress\",\"Coat\",\"Sandal\",\"Shirt\",\"Sneaker\",\"Bag\",\"Ankle boot\"]\n",
    "plt.figure(figsize=(1,1))\n",
    "plt.imshow(train_images[0], cmap='gray')"
   ]
  },
  {
   "cell_type": "code",
   "execution_count": null,
   "id": "9015a38e",
   "metadata": {},
   "outputs": [],
   "source": [
    "for i in range(10):\n",
    "    plt.figure(figsize=(1,1))\n",
    "    plt.imshow(train_images[i],cmap='gray')"
   ]
  },
  {
   "cell_type": "code",
   "execution_count": 21,
   "id": "2e0d7eb4",
   "metadata": {},
   "outputs": [
    {
     "data": {
      "text/plain": [
       "(28, 28)"
      ]
     },
     "execution_count": 21,
     "metadata": {},
     "output_type": "execute_result"
    }
   ],
   "source": [
    "train_images[0].shape"
   ]
  },
  {
   "cell_type": "code",
   "execution_count": 58,
   "id": "e8d2cf5b",
   "metadata": {},
   "outputs": [],
   "source": [
    "model=Sequential()\n",
    "model.add(InputLayer(shape=(28,28,1)))\n",
    "model.add(Conv2D(filters=32,kernel_size=(3,3),activation='relu')) # bydefault activation is  relu \n",
    "model.add(MaxPooling2D((2,2)))\n",
    "model.add(Conv2D(filters=64,kernel_size=(3,3),activation='relu')) # bydefault activation is  relu \n",
    "model.add(MaxPooling2D((2,2)))\n",
    "model.add(Conv2D(filters=128,kernel_size=(3,3),activation='relu')) # bydefault activation is  relu \n",
    "model.add(MaxPooling2D((2,2)))\n",
    "model.add(Flatten())\n",
    "model.add(Dense(128,activation='relu'))\n",
    "model.add(Dense(10,activation='softmax'))\n",
    "model.summary()"
   ]
  },
  {
   "cell_type": "code",
   "execution_count": 35,
   "id": "970e7afb",
   "metadata": {},
   "outputs": [],
   "source": [
    "train_images=train_images/255.\n",
    "#normalize the data\n",
    "cnn_x_train = train_images.reshape(60000,28,28,1)\n",
    "#reshaping because our model is expecting input in the shape of 28*2*1\n",
    "test_images=test_images/255.\n",
    "#normalize the data\n",
    "cnn_x_test = test_images.reshape(10000,28,28,1)"
   ]
  },
  {
   "cell_type": "code",
   "execution_count": 60,
   "id": "39d64f22",
   "metadata": {},
   "outputs": [
    {
     "name": "stdout",
     "output_type": "stream",
     "text": [
      "Epoch 1/10\n",
      "750/750 [==============================] - 43s 57ms/step - loss: 2.3028 - val_loss: 2.3027\n",
      "Epoch 2/10\n",
      "750/750 [==============================] - 29s 38ms/step - loss: 2.3027 - val_loss: 2.3027\n",
      "Epoch 3/10\n",
      "750/750 [==============================] - 28s 37ms/step - loss: 2.3027 - val_loss: 2.3027\n",
      "Epoch 4/10\n",
      "750/750 [==============================] - 27s 36ms/step - loss: 2.3027 - val_loss: 2.3028\n",
      "Epoch 5/10\n",
      "750/750 [==============================] - 28s 37ms/step - loss: 2.3027 - val_loss: 2.3026\n",
      "Epoch 6/10\n",
      "750/750 [==============================] - 28s 37ms/step - loss: 2.3027 - val_loss: 2.3027\n",
      "Epoch 7/10\n",
      "750/750 [==============================] - 28s 37ms/step - loss: 2.3027 - val_loss: 2.3026\n",
      "Epoch 8/10\n",
      "750/750 [==============================] - 28s 37ms/step - loss: 2.3027 - val_loss: 2.3027\n",
      "Epoch 9/10\n",
      "750/750 [==============================] - 29s 38ms/step - loss: 2.3027 - val_loss: 2.3028\n",
      "Epoch 10/10\n",
      "750/750 [==============================] - 28s 38ms/step - loss: 2.3027 - val_loss: 2.3028\n"
     ]
    },
    {
     "data": {
      "text/plain": [
       "<keras.callbacks.History at 0x1dd0a453518>"
      ]
     },
     "execution_count": 60,
     "metadata": {},
     "output_type": "execute_result"
    }
   ],
   "source": [
    "model.compile(optimizer='adam',loss='sparse_categorical_crossentropy')\n",
    "model.fit(cnn_x_train,train_labels,epochs=10,batch_size = 64,validation_split=0.2)"
   ]
  },
  {
   "cell_type": "code",
   "execution_count": 55,
   "id": "300f8c2a",
   "metadata": {},
   "outputs": [
    {
     "data": {
      "text/plain": [
       "array([[0.09983841, 0.10027979, 0.09844364, ..., 0.10053825, 0.10004253,\n",
       "        0.09938284],\n",
       "       [0.09983841, 0.10027979, 0.09844364, ..., 0.10053825, 0.10004253,\n",
       "        0.09938284],\n",
       "       [0.09983841, 0.10027979, 0.09844364, ..., 0.10053825, 0.10004253,\n",
       "        0.09938284],\n",
       "       ...,\n",
       "       [0.09983841, 0.10027979, 0.09844364, ..., 0.10053825, 0.10004253,\n",
       "        0.09938284],\n",
       "       [0.09983841, 0.10027979, 0.09844364, ..., 0.10053825, 0.10004253,\n",
       "        0.09938284],\n",
       "       [0.09983841, 0.10027979, 0.09844364, ..., 0.10053825, 0.10004253,\n",
       "        0.09938284]], dtype=float32)"
      ]
     },
     "execution_count": 55,
     "metadata": {},
     "output_type": "execute_result"
    }
   ],
   "source": [
    "yhat = model.predict(cnn_x_test)"
   ]
  },
  {
   "cell_type": "markdown",
   "id": "6911732c",
   "metadata": {},
   "source": [
    "#### from sklearn.metrics import classification_report, accuracy_score,confusion_matrix\n",
    "print(classification_report(test_labels,np.argmax(yhat,axis=1),target_names=label))"
   ]
  },
  {
   "cell_type": "code",
   "execution_count": 54,
   "id": "78fb483f",
   "metadata": {},
   "outputs": [
    {
     "data": {
      "text/plain": [
       "(10000,)"
      ]
     },
     "execution_count": 54,
     "metadata": {},
     "output_type": "execute_result"
    }
   ],
   "source": [
    "np.argmax(yhat, axis=1).shape"
   ]
  },
  {
   "cell_type": "code",
   "execution_count": 51,
   "id": "3e287e76",
   "metadata": {
    "scrolled": true
   },
   "outputs": [
    {
     "name": "stdout",
     "output_type": "stream",
     "text": [
      "[[   0    0    0 1000    0    0    0    0    0    0]\n",
      " [   0    0    0 1000    0    0    0    0    0    0]\n",
      " [   0    0    0 1000    0    0    0    0    0    0]\n",
      " [   0    0    0 1000    0    0    0    0    0    0]\n",
      " [   0    0    0 1000    0    0    0    0    0    0]\n",
      " [   0    0    0 1000    0    0    0    0    0    0]\n",
      " [   0    0    0 1000    0    0    0    0    0    0]\n",
      " [   0    0    0 1000    0    0    0    0    0    0]\n",
      " [   0    0    0 1000    0    0    0    0    0    0]\n",
      " [   0    0    0 1000    0    0    0    0    0    0]]\n"
     ]
    }
   ],
   "source": [
    "print(confusion_matrix(test_labels,np.argmax(yhat,axis=1)))"
   ]
  },
  {
   "cell_type": "code",
   "execution_count": 42,
   "id": "a377d6be",
   "metadata": {},
   "outputs": [],
   "source": [
    "#change the data- whereever Shirt (label=6) make Tshirt(label=1)\n",
    "y_train=train_labels.copy()\n",
    "y_test=train_labels.copy()\n",
    "y_train[y_train==6]=1\n",
    "y_test[y_test==6]=1"
   ]
  },
  {
   "cell_type": "code",
   "execution_count": null,
   "id": "aa595981",
   "metadata": {},
   "outputs": [],
   "source": []
  }
 ],
 "metadata": {
  "kernelspec": {
   "display_name": "Python 3",
   "language": "python",
   "name": "python3"
  },
  "language_info": {
   "codemirror_mode": {
    "name": "ipython",
    "version": 3
   },
   "file_extension": ".py",
   "mimetype": "text/x-python",
   "name": "python",
   "nbconvert_exporter": "python",
   "pygments_lexer": "ipython3",
   "version": "3.6.13"
  }
 },
 "nbformat": 4,
 "nbformat_minor": 5
}
